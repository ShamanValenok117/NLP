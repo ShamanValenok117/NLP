{
 "cells": [
  {
   "cell_type": "markdown",
   "metadata": {
    "toc": true
   },
   "source": [
    "<h1>Table of Contents<span class=\"tocSkip\"></span></h1>\n",
    "<div class=\"toc\"><ul class=\"toc-item\"><li><span><a href=\"#Задание-1:-Составление-словарей-для-классификации-по-тональности\" data-toc-modified-id=\"Задание-1:-Составление-словарей-для-классификации-по-тональности-1\"><span class=\"toc-item-num\">1&nbsp;&nbsp;</span>Задание 1: Составление словарей для классификации по тональности</a></span><ul class=\"toc-item\"><li><span><a href=\"#Разбейте-всю-коллекцию-отзывов-на-предложения.-Лемматизируйте-все-слова.\" data-toc-modified-id=\"Разбейте-всю-коллекцию-отзывов-на-предложения.-Лемматизируйте-все-слова.-1.1\"><span class=\"toc-item-num\">1.1&nbsp;&nbsp;</span>Разбейте всю коллекцию отзывов на предложения. Лемматизируйте все слова.</a></span></li><li><span><a href=\"#Обучите-по-коллекции-предложений-word2vec\" data-toc-modified-id=\"Обучите-по-коллекции-предложений-word2vec-1.2\"><span class=\"toc-item-num\">1.2&nbsp;&nbsp;</span>Обучите по коллекции предложений word2vec</a></span></li><li><span><a href=\"#Приведите-несколько-удачных-и-неудачных-примеров-решения-стандартных-текстов-для-word2vec:\" data-toc-modified-id=\"Приведите-несколько-удачных-и-неудачных-примеров-решения-стандартных-текстов-для-word2vec:-1.3\"><span class=\"toc-item-num\">1.3&nbsp;&nbsp;</span>Приведите несколько удачных и неудачных примеров решения стандартных текстов для word2vec:</a></span></li><li><span><a href=\"#Постройте-несколько-визуализаций:\" data-toc-modified-id=\"Постройте-несколько-визуализаций:-1.4\"><span class=\"toc-item-num\">1.4&nbsp;&nbsp;</span>Постройте несколько визуализаций:</a></span><ul class=\"toc-item\"><li><span><a href=\"#TSNE-для-топ-100-(или-топ-500)-слов-и-найдите-осмысленные-кластеры-слов\" data-toc-modified-id=\"TSNE-для-топ-100-(или-топ-500)-слов-и-найдите-осмысленные-кластеры-слов-1.4.1\"><span class=\"toc-item-num\">1.4.1&nbsp;&nbsp;</span>TSNE для топ-100 (или топ-500) слов и найдите осмысленные кластеры слов</a></span></li><li><span><a href=\"#задайте-координаты-для-нового-пространства-следующим-образом:\" data-toc-modified-id=\"задайте-координаты-для-нового-пространства-следующим-образом:-1.4.2\"><span class=\"toc-item-num\">1.4.2&nbsp;&nbsp;</span>задайте координаты для нового пространства следующим образом:</a></span></li></ul></li></ul></li><li><span><a href=\"#Задание-2:--Распространение-метки\" data-toc-modified-id=\"Задание-2:--Распространение-метки-2\"><span class=\"toc-item-num\">2&nbsp;&nbsp;</span>Задание 2:  Распространение метки</a></span><ul class=\"toc-item\"><li><span><a href=\"#Определите-5-8-позитивных-слов-(например,-“быстрый”,-“удобный”)-и-5-8-негативных-слов-(например,“очередь”,-“медленно”).-Эти-слова-будут-основной-будущего-оценочного-словаря.\" data-toc-modified-id=\"Определите-5-8-позитивных-слов-(например,-“быстрый”,-“удобный”)-и-5-8-негативных-слов-(например,“очередь”,-“медленно”).-Эти-слова-будут-основной-будущего-оценочного-словаря.-2.1\"><span class=\"toc-item-num\">2.1&nbsp;&nbsp;</span>Определите 5-8 позитивных слов (например, “быстрый”, “удобный”) и 5-8 негативных слов (например,“очередь”, “медленно”). Эти слова будут основной будущего оценочного словаря.</a></span></li><li><span><a href=\"#алгоритмы-распространения-метки\" data-toc-modified-id=\"алгоритмы-распространения-метки-2.2\"><span class=\"toc-item-num\">2.2&nbsp;&nbsp;</span>алгоритмы распространения метки</a></span></li></ul></li></ul></div>"
   ]
  },
  {
   "cell_type": "markdown",
   "metadata": {
    "ExecuteTime": {
     "end_time": "2021-12-17T12:12:30.030486Z",
     "start_time": "2021-12-17T12:12:30.000486Z"
    }
   },
   "source": [
    "# Домашнее задание по теме “Синтаксический анализ”\n",
    "\n",
    "## Задание 1: Составление словарей для классификации по тональности\n",
    "\n",
    "При классификации текстов или предложений по тональности необходимо использовать оценочные словари для предметной области, то есть, такие словари, в которых содержатся отрицательные и позитивные слова для какой-то предметной области. Идея подобных словарей основана на следующих наблюдениях: во-первых, для разных товаров используются разные оценочные слова (например бывает “захватывающая книга”, но не бывает “захватывающих лыж”), во-вторых, в контексте разных товаров одни и те же слова могут иметь разную окраску (слово “тормоз” в отзыве на велосипед имеет нейтральную окраску, в отзыве на компьютер – резко негативную, “пыль” в контексте пылесосов – нейтральную, в контексте кофемолок – положительную (“мелкий помол в пыль”)). Еще один пример: \"теплое пиво\" – это плохо, а \"теплый свитер\" – это хорошо.\n",
    "\n",
    "Составление таких словарей вручную – трудоемкий процесс, но, к счастью, его не сложно автоматизировать, если собрать достаточно большие корпуса отзывов. В этом домашнем задании вам предстоит попробовать реализовать один их подходов к составлению оценочных словарей, основанный на статье Inducing Domain-Specific Sentiment Lexicons from Unlabeled Corpora (https://nlp.stanford.edu/pubs/hamilton2016inducing.pdf).\n",
    "\n",
    "Данные для задания – уже знакомые вам отзывы на банки, собранные с нескольких сайтов Рунета. Отзывы могут быть как положительными (оценка 5), так и отрицательными (оценка 1)."
   ]
  },
  {
   "cell_type": "code",
   "execution_count": 1,
   "metadata": {
    "ExecuteTime": {
     "end_time": "2021-12-21T12:37:37.299910Z",
     "start_time": "2021-12-21T12:37:33.217904Z"
    }
   },
   "outputs": [
    {
     "name": "stdout",
     "output_type": "stream",
     "text": [
      "Populating the interactive namespace from numpy and matplotlib\n"
     ]
    }
   ],
   "source": [
    "import json\n",
    "\n",
    "import bz2\n",
    "from tqdm import tqdm\n",
    "from scipy import sparse\n",
    "\n",
    "import pandas as pd\n",
    "import numpy as np\n",
    "import nltk\n",
    "\n",
    "import pickle \n",
    "import matplotlib.pyplot as plt\n",
    "import seaborn as sns\n",
    "%matplotlib inline\n",
    "%pylab inline\n",
    "import warnings\n",
    "warnings.filterwarnings('ignore')"
   ]
  },
  {
   "cell_type": "code",
   "execution_count": 2,
   "metadata": {
    "ExecuteTime": {
     "end_time": "2021-12-21T12:37:37.829911Z",
     "start_time": "2021-12-21T12:37:37.299910Z"
    }
   },
   "outputs": [],
   "source": [
    "import re\n",
    "from nltk.corpus import stopwords\n",
    "#from string import punctuation\n",
    "from pymorphy2 import MorphAnalyzer\n",
    "ma = MorphAnalyzer()\n",
    "from collections import Counter\n",
    "import pickle"
   ]
  },
  {
   "cell_type": "markdown",
   "metadata": {},
   "source": [
    "Откроем пре-процессеный датафрейм из домашней №1:"
   ]
  },
  {
   "cell_type": "code",
   "execution_count": 4,
   "metadata": {
    "ExecuteTime": {
     "end_time": "2021-12-17T13:32:30.116479Z",
     "start_time": "2021-12-17T13:32:28.014475Z"
    }
   },
   "outputs": [],
   "source": [
    "import pickle\n",
    "with open('../../HW_1/Materials/preprocessed/df.pickle' , 'rb') as f:\n",
    "    df = pickle.load(f)\n",
    "f.close()"
   ]
  },
  {
   "cell_type": "code",
   "execution_count": 6,
   "metadata": {
    "ExecuteTime": {
     "end_time": "2021-12-17T13:33:28.425561Z",
     "start_time": "2021-12-17T13:33:28.255561Z"
    }
   },
   "outputs": [
    {
     "data": {
      "text/html": [
       "<div>\n",
       "<style scoped>\n",
       "    .dataframe tbody tr th:only-of-type {\n",
       "        vertical-align: middle;\n",
       "    }\n",
       "\n",
       "    .dataframe tbody tr th {\n",
       "        vertical-align: top;\n",
       "    }\n",
       "\n",
       "    .dataframe thead th {\n",
       "        text-align: right;\n",
       "    }\n",
       "</style>\n",
       "<table border=\"1\" class=\"dataframe\">\n",
       "  <thead>\n",
       "    <tr style=\"text-align: right;\">\n",
       "      <th></th>\n",
       "      <th>bank_name</th>\n",
       "      <th>city</th>\n",
       "      <th>rating_grade</th>\n",
       "      <th>text</th>\n",
       "    </tr>\n",
       "  </thead>\n",
       "  <tbody>\n",
       "    <tr>\n",
       "      <th>0</th>\n",
       "      <td>Бинбанк</td>\n",
       "      <td>Москва</td>\n",
       "      <td>None</td>\n",
       "      <td>Добрый день! Я не являюсь клиентом банка и пор...</td>\n",
       "    </tr>\n",
       "    <tr>\n",
       "      <th>1</th>\n",
       "      <td>Сбербанк России</td>\n",
       "      <td>Новосибирск</td>\n",
       "      <td>None</td>\n",
       "      <td>Доброго дня! Являюсь держателем зарплатной кар...</td>\n",
       "    </tr>\n",
       "    <tr>\n",
       "      <th>2</th>\n",
       "      <td>Бинбанк</td>\n",
       "      <td>Москва</td>\n",
       "      <td>None</td>\n",
       "      <td>Здравствуйте!  Дублирую свое заявление от 03.0...</td>\n",
       "    </tr>\n",
       "    <tr>\n",
       "      <th>3</th>\n",
       "      <td>Сбербанк России</td>\n",
       "      <td>Ставрополь</td>\n",
       "      <td>None</td>\n",
       "      <td>Добрый день!! Я открыл расчетный счет в СберБа...</td>\n",
       "    </tr>\n",
       "    <tr>\n",
       "      <th>4</th>\n",
       "      <td>ОТП Банк</td>\n",
       "      <td>Челябинск</td>\n",
       "      <td>None</td>\n",
       "      <td>04.03.2015 г. взяла кредит в вашем банке, заяв...</td>\n",
       "    </tr>\n",
       "  </tbody>\n",
       "</table>\n",
       "</div>"
      ],
      "text/plain": [
       "         bank_name         city rating_grade  \\\n",
       "0          Бинбанк       Москва         None   \n",
       "1  Сбербанк России  Новосибирск         None   \n",
       "2          Бинбанк       Москва         None   \n",
       "3  Сбербанк России   Ставрополь         None   \n",
       "4         ОТП Банк    Челябинск         None   \n",
       "\n",
       "                                                text  \n",
       "0  Добрый день! Я не являюсь клиентом банка и пор...  \n",
       "1  Доброго дня! Являюсь держателем зарплатной кар...  \n",
       "2  Здравствуйте!  Дублирую свое заявление от 03.0...  \n",
       "3  Добрый день!! Я открыл расчетный счет в СберБа...  \n",
       "4  04.03.2015 г. взяла кредит в вашем банке, заяв...  "
      ]
     },
     "execution_count": 6,
     "metadata": {},
     "output_type": "execute_result"
    }
   ],
   "source": [
    "df['city'] = df.city.astype('str').apply(lambda x: x.replace('г. ',''))\n",
    "df.head()"
   ]
  },
  {
   "cell_type": "markdown",
   "metadata": {
    "ExecuteTime": {
     "end_time": "2021-12-17T12:12:30.030486Z",
     "start_time": "2021-12-17T12:12:30.000486Z"
    }
   },
   "source": [
    "### Разбейте всю коллекцию отзывов на предложения. Лемматизируйте все слова."
   ]
  },
  {
   "cell_type": "code",
   "execution_count": 7,
   "metadata": {
    "ExecuteTime": {
     "end_time": "2021-12-17T13:34:26.692643Z",
     "start_time": "2021-12-17T13:34:26.672643Z"
    }
   },
   "outputs": [],
   "source": [
    "rus_stopwords = stopwords.words('russian')\n",
    "rus_word = re.compile('[А-Яа-я]{3,}')\n",
    "    \n",
    "def words_only(text): \n",
    "    return \" \".join([i.lower() for i in rus_word.findall(text)])\n",
    "\n",
    "def lemmatize(text):\n",
    "    try:\n",
    "        return \" \".join([ma.parse(i)[0].normal_form for i in rus_word.findall(text) ])  \n",
    "    except:\n",
    "        return \" \"\n",
    "    \n",
    "def lemmatize_noun(text ):\n",
    "    try:\n",
    "        return [ma.parse(i)[0].normal_form for i in text if {'NOUN'} in ma.parse(i)[0].tag  ]  \n",
    "    except:\n",
    "        return \" \"\n",
    "\n",
    "def remove_stopwords(text, mystopwords = rus_stopwords):\n",
    "    try:\n",
    "        return \" \".join([i for i in text.split() if i not in mystopwords])\n",
    "    except:\n",
    "        return [i for i in text if i not in mystopwords]\n",
    "    \n",
    "def preprocess(text):\n",
    "    return remove_stopwords(lemmatize(words_only(text)))"
   ]
  },
  {
   "cell_type": "code",
   "execution_count": null,
   "metadata": {},
   "outputs": [],
   "source": [
    "df['text_processed'] = df.text.astype('str').apply(preprocess)"
   ]
  },
  {
   "cell_type": "markdown",
   "metadata": {},
   "source": [
    "А можно проще, загрзить процессеный датафрейм из первой домашней:"
   ]
  },
  {
   "cell_type": "code",
   "execution_count": 100,
   "metadata": {
    "ExecuteTime": {
     "end_time": "2021-12-21T14:26:57.517282Z",
     "start_time": "2021-12-21T14:26:54.036277Z"
    }
   },
   "outputs": [],
   "source": [
    "with open('../../HW_1/Materials/processed/df.pickle' , 'rb') as f:\n",
    "    df = pickle.load(f)\n",
    "f.close()"
   ]
  },
  {
   "cell_type": "code",
   "execution_count": 4,
   "metadata": {
    "ExecuteTime": {
     "end_time": "2021-12-21T06:53:05.888117Z",
     "start_time": "2021-12-21T06:53:05.858117Z"
    }
   },
   "outputs": [
    {
     "data": {
      "text/html": [
       "<div>\n",
       "<style scoped>\n",
       "    .dataframe tbody tr th:only-of-type {\n",
       "        vertical-align: middle;\n",
       "    }\n",
       "\n",
       "    .dataframe tbody tr th {\n",
       "        vertical-align: top;\n",
       "    }\n",
       "\n",
       "    .dataframe thead th {\n",
       "        text-align: right;\n",
       "    }\n",
       "</style>\n",
       "<table border=\"1\" class=\"dataframe\">\n",
       "  <thead>\n",
       "    <tr style=\"text-align: right;\">\n",
       "      <th></th>\n",
       "      <th>bank</th>\n",
       "      <th>city</th>\n",
       "      <th>rating</th>\n",
       "      <th>text</th>\n",
       "      <th>text_processed</th>\n",
       "    </tr>\n",
       "  </thead>\n",
       "  <tbody>\n",
       "    <tr>\n",
       "      <th>0</th>\n",
       "      <td>Бинбанк</td>\n",
       "      <td>Москва</td>\n",
       "      <td>None</td>\n",
       "      <td>Добрый день! Я не являюсь клиентом банка и пор...</td>\n",
       "      <td>добрый день являться клиент банк поручитель кр...</td>\n",
       "    </tr>\n",
       "    <tr>\n",
       "      <th>1</th>\n",
       "      <td>Сбербанк России</td>\n",
       "      <td>Новосибирск</td>\n",
       "      <td>None</td>\n",
       "      <td>Доброго дня! Являюсь держателем зарплатной кар...</td>\n",
       "      <td>добрый день являться держатель зарплатный карт...</td>\n",
       "    </tr>\n",
       "    <tr>\n",
       "      <th>2</th>\n",
       "      <td>Бинбанк</td>\n",
       "      <td>Москва</td>\n",
       "      <td>None</td>\n",
       "      <td>Здравствуйте!  Дублирую свое заявление от 03.0...</td>\n",
       "      <td>здравствуйте дублировать свой заявление можайс...</td>\n",
       "    </tr>\n",
       "    <tr>\n",
       "      <th>3</th>\n",
       "      <td>Сбербанк России</td>\n",
       "      <td>Ставрополь</td>\n",
       "      <td>None</td>\n",
       "      <td>Добрый день!! Я открыл расчетный счет в СберБа...</td>\n",
       "      <td>добрый день открыть расчётный счёт сбербанк ли...</td>\n",
       "    </tr>\n",
       "    <tr>\n",
       "      <th>4</th>\n",
       "      <td>ОТП Банк</td>\n",
       "      <td>Челябинск</td>\n",
       "      <td>None</td>\n",
       "      <td>04.03.2015 г. взяла кредит в вашем банке, заяв...</td>\n",
       "      <td>взять кредит ваш банк заявить сумма рубль год ...</td>\n",
       "    </tr>\n",
       "  </tbody>\n",
       "</table>\n",
       "</div>"
      ],
      "text/plain": [
       "              bank         city rating  \\\n",
       "0          Бинбанк       Москва   None   \n",
       "1  Сбербанк России  Новосибирск   None   \n",
       "2          Бинбанк       Москва   None   \n",
       "3  Сбербанк России   Ставрополь   None   \n",
       "4         ОТП Банк    Челябинск   None   \n",
       "\n",
       "                                                text  \\\n",
       "0  Добрый день! Я не являюсь клиентом банка и пор...   \n",
       "1  Доброго дня! Являюсь держателем зарплатной кар...   \n",
       "2  Здравствуйте!  Дублирую свое заявление от 03.0...   \n",
       "3  Добрый день!! Я открыл расчетный счет в СберБа...   \n",
       "4  04.03.2015 г. взяла кредит в вашем банке, заяв...   \n",
       "\n",
       "                                      text_processed  \n",
       "0  добрый день являться клиент банк поручитель кр...  \n",
       "1  добрый день являться держатель зарплатный карт...  \n",
       "2  здравствуйте дублировать свой заявление можайс...  \n",
       "3  добрый день открыть расчётный счёт сбербанк ли...  \n",
       "4  взять кредит ваш банк заявить сумма рубль год ...  "
      ]
     },
     "execution_count": 4,
     "metadata": {},
     "output_type": "execute_result"
    }
   ],
   "source": [
    "df.head()"
   ]
  },
  {
   "cell_type": "markdown",
   "metadata": {
    "ExecuteTime": {
     "end_time": "2021-12-17T12:12:30.030486Z",
     "start_time": "2021-12-17T12:12:30.000486Z"
    }
   },
   "source": [
    "### Обучите по коллекции предложений word2vec"
   ]
  },
  {
   "cell_type": "code",
   "execution_count": 3,
   "metadata": {
    "ExecuteTime": {
     "end_time": "2021-12-21T12:37:38.479912Z",
     "start_time": "2021-12-21T12:37:38.069911Z"
    }
   },
   "outputs": [],
   "source": [
    "from gensim.models.word2vec import Word2Vec"
   ]
  },
  {
   "cell_type": "code",
   "execution_count": 7,
   "metadata": {
    "ExecuteTime": {
     "end_time": "2021-12-20T06:49:05.074122Z",
     "start_time": "2021-12-20T06:48:58.914113Z"
    }
   },
   "outputs": [
    {
     "name": "stderr",
     "output_type": "stream",
     "text": [
      "100%|███████████████████████████████| 153499/153499 [00:06<00:00, 25040.59it/s]\n"
     ]
    }
   ],
   "source": [
    "result = []\n",
    "\n",
    "for i in tqdm(df.text_processed): \n",
    "    result.append( [j for j in i.split() ])\n",
    "    "
   ]
  },
  {
   "cell_type": "code",
   "execution_count": 8,
   "metadata": {
    "ExecuteTime": {
     "end_time": "2021-12-20T07:22:18.635076Z",
     "start_time": "2021-12-20T06:49:05.074122Z"
    }
   },
   "outputs": [],
   "source": [
    "# Word2Vec\n",
    "word_to_vec_text = Word2Vec(result, workers=4, vector_size=300, min_count=3, window=5, epochs=50)"
   ]
  },
  {
   "cell_type": "code",
   "execution_count": 9,
   "metadata": {
    "ExecuteTime": {
     "end_time": "2021-12-20T07:22:18.645076Z",
     "start_time": "2021-12-20T07:22:18.635076Z"
    }
   },
   "outputs": [
    {
     "data": {
      "text/plain": [
       "['банк', 'карта', 'это', 'деньга', 'день']"
      ]
     },
     "execution_count": 9,
     "metadata": {},
     "output_type": "execute_result"
    }
   ],
   "source": [
    "word_to_vec_text.wv.index_to_key[:5]"
   ]
  },
  {
   "cell_type": "code",
   "execution_count": 10,
   "metadata": {
    "ExecuteTime": {
     "end_time": "2021-12-20T07:22:18.755076Z",
     "start_time": "2021-12-20T07:22:18.645076Z"
    }
   },
   "outputs": [
    {
     "name": "stdout",
     "output_type": "stream",
     "text": [
      "[ 0.2532863  -0.53095716 -0.73003477 -0.08672321  0.32542422 -1.0048007\n",
      " -1.0208464   0.92761743 -0.40378445  0.93593127  0.4244592   0.03597893\n",
      "  0.2463437  -0.5869113   1.525071   -0.47726232  0.09651468 -1.9334999\n",
      " -0.538103    0.9582507   0.5064818   0.733267   -0.10928251 -0.5830959\n",
      "  0.56816155 -0.8980207  -0.20123358  1.6486887   0.20770362  0.04484551]\n"
     ]
    },
    {
     "data": {
      "text/plain": [
       "[('депозит', 0.9131909608840942),\n",
       " ('депозитный', 0.5788779258728027),\n",
       " ('капитализация', 0.5612224340438843),\n",
       " ('рантье', 0.4895908832550049),\n",
       " ('доходный', 0.4822109639644623),\n",
       " ('смартвклад', 0.47515571117401123),\n",
       " ('вкладчик', 0.46517467498779297),\n",
       " ('накопительный', 0.46100401878356934),\n",
       " ('востребование', 0.45593276619911194),\n",
       " ('супервклад', 0.43395712971687317)]"
      ]
     },
     "execution_count": 10,
     "metadata": {},
     "output_type": "execute_result"
    }
   ],
   "source": [
    "print( word_to_vec_text.wv['банк'][:30])\n",
    "word_to_vec_text.wv.most_similar('вклад')"
   ]
  },
  {
   "cell_type": "markdown",
   "metadata": {},
   "source": [
    "совпадает отлично эмбединг закончили.\n"
   ]
  },
  {
   "cell_type": "code",
   "execution_count": 19,
   "metadata": {
    "ExecuteTime": {
     "end_time": "2021-12-20T07:23:44.548198Z",
     "start_time": "2021-12-20T07:23:44.228198Z"
    }
   },
   "outputs": [],
   "source": [
    "#сохраняемся\n",
    "word_to_vec_text.save(\"./processed/word2vec.model\")"
   ]
  },
  {
   "cell_type": "code",
   "execution_count": 13,
   "metadata": {
    "ExecuteTime": {
     "end_time": "2021-12-21T06:58:13.718552Z",
     "start_time": "2021-12-21T06:58:12.578551Z"
    }
   },
   "outputs": [],
   "source": [
    "# если вдруг нужно будет загрузить модель:\n",
    "word_to_vec_text = Word2Vec.load(\"./processed/word2vec.model\")"
   ]
  },
  {
   "cell_type": "markdown",
   "metadata": {},
   "source": [
    "Keyed Vectors"
   ]
  },
  {
   "cell_type": "code",
   "execution_count": 4,
   "metadata": {
    "ExecuteTime": {
     "end_time": "2021-12-21T12:37:45.126921Z",
     "start_time": "2021-12-21T12:37:45.116921Z"
    }
   },
   "outputs": [],
   "source": [
    "from gensim.models import KeyedVectors"
   ]
  },
  {
   "cell_type": "code",
   "execution_count": 17,
   "metadata": {
    "ExecuteTime": {
     "end_time": "2021-12-21T06:59:05.825626Z",
     "start_time": "2021-12-21T06:59:05.665625Z"
    }
   },
   "outputs": [],
   "source": [
    "word_vectors = word_to_vec_text.wv\n",
    "word_to_vec_text.wv.save(\"./processed/word2vec.wordvectors.bin\")"
   ]
  },
  {
   "cell_type": "code",
   "execution_count": 5,
   "metadata": {
    "ExecuteTime": {
     "end_time": "2021-12-21T12:37:49.617928Z",
     "start_time": "2021-12-21T12:37:49.447927Z"
    }
   },
   "outputs": [],
   "source": [
    "# Load a word2vec model stored in the C *binary* format.\n",
    "#from gensim.test.utils import datapath\n",
    "\n",
    "word_vectors = KeyedVectors.load(\"./processed/word2vec.wordvectors.bin\")"
   ]
  },
  {
   "cell_type": "markdown",
   "metadata": {
    "ExecuteTime": {
     "end_time": "2021-12-17T12:12:30.030486Z",
     "start_time": "2021-12-17T12:12:30.000486Z"
    }
   },
   "source": [
    "### Приведите несколько удачных и неудачных примеров решения стандартных текстов для word2vec:\n",
    "-  тест на определение ближайших слов\n",
    "-  тест на аналогии (мужчина – король : женщина – королева)\n",
    "-  тест на определение лишнего слова."
   ]
  },
  {
   "cell_type": "code",
   "execution_count": 7,
   "metadata": {
    "ExecuteTime": {
     "end_time": "2021-12-21T08:12:55.671754Z",
     "start_time": "2021-12-21T08:12:55.641754Z"
    }
   },
   "outputs": [
    {
     "data": {
      "text/plain": [
       "[('репутация', 0.5111017227172852),\n",
       " ('авторитет', 0.4990636110305786),\n",
       " ('недоверие', 0.4884306788444519),\n",
       " ('оптимизм', 0.47003859281539917),\n",
       " ('имидж', 0.46943604946136475),\n",
       " ('лояльность', 0.43743446469306946),\n",
       " ('доверять', 0.4208633303642273),\n",
       " ('надёжность', 0.4099663496017456),\n",
       " ('отторжение', 0.4051988422870636),\n",
       " ('привлекательность', 0.3944292962551117)]"
      ]
     },
     "execution_count": 7,
     "metadata": {},
     "output_type": "execute_result"
    }
   ],
   "source": [
    "# определение ближайших слов\n",
    "word_vectors.most_similar('доверие')"
   ]
  },
  {
   "cell_type": "code",
   "execution_count": 24,
   "metadata": {
    "ExecuteTime": {
     "end_time": "2021-12-20T07:25:17.619329Z",
     "start_time": "2021-12-20T07:25:17.589329Z"
    }
   },
   "outputs": [
    {
     "data": {
      "text/plain": [
       "[('мошенник', 0.36048179864883423),\n",
       " ('фармс', 0.29631564021110535),\n",
       " ('сбербанк', 0.2957094609737396),\n",
       " ('безобразно', 0.2668776214122772),\n",
       " ('мошейничество', 0.25321322679519653),\n",
       " ('фишинга', 0.2508171796798706),\n",
       " ('получаться', 0.24909177422523499),\n",
       " ('ненадёжный', 0.24764330685138702),\n",
       " ('бербанк', 0.2470119297504425),\n",
       " ('социально', 0.24637126922607422)]"
      ]
     },
     "execution_count": 24,
     "metadata": {},
     "output_type": "execute_result"
    }
   ],
   "source": [
    "word_vectors.most_similar('мошейник')"
   ]
  },
  {
   "cell_type": "code",
   "execution_count": 25,
   "metadata": {
    "ExecuteTime": {
     "end_time": "2021-12-20T07:25:24.440339Z",
     "start_time": "2021-12-20T07:25:24.420339Z"
    }
   },
   "outputs": [
    {
     "data": {
      "text/plain": [
       "[('спецпредложение', 0.5400211215019226),\n",
       " ('розыгрыш', 0.5343733429908752),\n",
       " ('лотерея', 0.49708813428878784),\n",
       " ('промоакция', 0.4558902978897095),\n",
       " ('подарок', 0.45523005723953247),\n",
       " ('групон', 0.4548380970954895),\n",
       " ('конкурс', 0.44883468747138977),\n",
       " ('скидка', 0.4367466866970062),\n",
       " ('акционный', 0.4233836233615875),\n",
       " ('льготный', 0.42160287499427795)]"
      ]
     },
     "execution_count": 25,
     "metadata": {},
     "output_type": "execute_result"
    }
   ],
   "source": [
    "word_vectors.most_similar('акция')"
   ]
  },
  {
   "cell_type": "code",
   "execution_count": 26,
   "metadata": {
    "ExecuteTime": {
     "end_time": "2021-12-20T07:25:29.151345Z",
     "start_time": "2021-12-20T07:25:29.131345Z"
    }
   },
   "outputs": [
    {
     "data": {
      "text/plain": [
       "[('открывать', 0.8290103673934937),\n",
       " ('открытие', 0.6657145023345947),\n",
       " ('открываться', 0.6279476284980774),\n",
       " ('пополнить', 0.6213948726654053),\n",
       " ('завести', 0.6172443628311157),\n",
       " ('закрыть', 0.6067850589752197),\n",
       " ('отрыть', 0.5748055577278137),\n",
       " ('откроить', 0.5569126605987549),\n",
       " ('открытый', 0.5497719645500183),\n",
       " ('закрывать', 0.5257010459899902)]"
      ]
     },
     "execution_count": 26,
     "metadata": {},
     "output_type": "execute_result"
    }
   ],
   "source": [
    "word_vectors.most_similar('открыть')"
   ]
  },
  {
   "cell_type": "code",
   "execution_count": 27,
   "metadata": {
    "ExecuteTime": {
     "end_time": "2021-12-20T07:25:35.621354Z",
     "start_time": "2021-12-20T07:25:35.601354Z"
    }
   },
   "outputs": [
    {
     "data": {
      "text/plain": [
       "[('удалённый', 0.5599509477615356),\n",
       " ('дистанционный', 0.43692028522491455),\n",
       " ('интернет', 0.40190306305885315),\n",
       " ('самостоятельно', 0.3962324857711792),\n",
       " ('оперативно', 0.3820246756076813),\n",
       " ('лайна', 0.3429613411426544),\n",
       " ('удалой', 0.34005433320999146),\n",
       " ('онлайн', 0.31442224979400635),\n",
       " ('инет', 0.3086392879486084),\n",
       " ('банкинг', 0.3045424818992615)]"
      ]
     },
     "execution_count": 27,
     "metadata": {},
     "output_type": "execute_result"
    }
   ],
   "source": [
    "word_vectors.most_similar('дистанционно')"
   ]
  },
  {
   "cell_type": "code",
   "execution_count": 29,
   "metadata": {
    "ExecuteTime": {
     "end_time": "2021-12-20T07:25:55.915383Z",
     "start_time": "2021-12-20T07:25:55.895383Z"
    }
   },
   "outputs": [
    {
     "data": {
      "text/plain": [
       "[('депозит', 0.4709746539592743),\n",
       " ('росинтербанк', 0.3955385386943817),\n",
       " ('вкладчик', 0.3790328800678253),\n",
       " ('соблазниться', 0.3627621531486511),\n",
       " ('мособлбанк', 0.3498727083206177),\n",
       " ('несгораемый', 0.3463003635406494),\n",
       " ('бпф', 0.33915600180625916),\n",
       " ('рантье', 0.3381029963493347),\n",
       " ('капитализация', 0.3318580687046051),\n",
       " ('супервклад', 0.3262217938899994)]"
      ]
     },
     "execution_count": 29,
     "metadata": {},
     "output_type": "execute_result"
    }
   ],
   "source": [
    "# тест на аналогии (мужчина – король : женщина – королева)\n",
    "\n",
    "#     positive — вектора, которые мы складываем\n",
    "#     negative — вектора, которые вычитаем\n",
    "\n",
    "#     Что получится, если вычесть из вклада деньга и прибавить банк ?\n",
    "\n",
    "word_vectors.most_similar(positive=['вклад', 'банк'], negative=['деньга']) # должно получиться что то похожее на 'кредит'"
   ]
  },
  {
   "cell_type": "code",
   "execution_count": 30,
   "metadata": {
    "ExecuteTime": {
     "end_time": "2021-12-20T07:26:23.908422Z",
     "start_time": "2021-12-20T07:26:23.878422Z"
    }
   },
   "outputs": [
    {
     "data": {
      "text/plain": [
       "[('карточка', 0.4120981693267822),\n",
       " ('ситибанк', 0.3923100233078003),\n",
       " ('кредитка', 0.3897530138492584),\n",
       " ('дебетовый', 0.3597238063812256),\n",
       " ('промсвязьбанк', 0.3544592559337616),\n",
       " ('мастеркард', 0.3400324285030365),\n",
       " ('банкинг', 0.33443084359169006),\n",
       " ('брс', 0.3339383602142334),\n",
       " ('альф', 0.3260098993778229),\n",
       " ('псб', 0.3251495659351349)]"
      ]
     },
     "execution_count": 30,
     "metadata": {},
     "output_type": "execute_result"
    }
   ],
   "source": [
    "#     Что получится, если вычесть из банк приехать и прибавить карта ?\n",
    "\n",
    "word_vectors.most_similar(positive=['банк', 'карта'], negative=['приехать']) # должно получиться что то похожее на 'дистанционно'"
   ]
  },
  {
   "cell_type": "code",
   "execution_count": 31,
   "metadata": {
    "ExecuteTime": {
     "end_time": "2021-12-20T07:26:30.810432Z",
     "start_time": "2021-12-20T07:26:30.790432Z"
    }
   },
   "outputs": [
    {
     "data": {
      "text/plain": [
       "[('розыгрыш', 0.46148964762687683),\n",
       " ('спецпредложение', 0.4590436518192291),\n",
       " ('групон', 0.4401020109653473),\n",
       " ('лотерея', 0.4320741891860962),\n",
       " ('скидка', 0.4187765419483185),\n",
       " ('конкурс', 0.4146120250225067),\n",
       " ('бонус', 0.4080039858818054),\n",
       " ('лото', 0.39448413252830505),\n",
       " ('промоакция', 0.3792937695980072),\n",
       " ('выигрыш', 0.37553757429122925)]"
      ]
     },
     "execution_count": 31,
     "metadata": {},
     "output_type": "execute_result"
    }
   ],
   "source": [
    "#     Что получится, если вычесть из пригласительный приехать и прибавить акция ? \n",
    "\n",
    "word_vectors.most_similar(positive=['пригласительный', 'акция'], negative=['приехать']) # должно получиться что то похожее на кашу"
   ]
  },
  {
   "cell_type": "code",
   "execution_count": 36,
   "metadata": {
    "ExecuteTime": {
     "end_time": "2021-12-20T07:27:37.059525Z",
     "start_time": "2021-12-20T07:27:37.039525Z"
    }
   },
   "outputs": [
    {
     "data": {
      "text/plain": [
       "'скидка'"
      ]
     },
     "execution_count": 36,
     "metadata": {},
     "output_type": "execute_result"
    }
   ],
   "source": [
    "# тест на определение лишнего слова\n",
    "word_vectors.doesnt_match('средство санкция наплевать скидка'.split())"
   ]
  },
  {
   "cell_type": "code",
   "execution_count": 33,
   "metadata": {
    "ExecuteTime": {
     "end_time": "2021-12-20T07:26:52.584463Z",
     "start_time": "2021-12-20T07:26:52.564463Z"
    }
   },
   "outputs": [
    {
     "data": {
      "text/plain": [
       "'наплевать'"
      ]
     },
     "execution_count": 33,
     "metadata": {},
     "output_type": "execute_result"
    }
   ],
   "source": [
    "word_vectors.doesnt_match('открыть карта участие приехать наплевать акция'.split())"
   ]
  },
  {
   "cell_type": "code",
   "execution_count": 37,
   "metadata": {
    "ExecuteTime": {
     "end_time": "2021-12-20T07:27:48.870542Z",
     "start_time": "2021-12-20T07:27:48.860542Z"
    }
   },
   "outputs": [
    {
     "data": {
      "text/plain": [
       "'выигрыш'"
      ]
     },
     "execution_count": 37,
     "metadata": {},
     "output_type": "execute_result"
    }
   ],
   "source": [
    "word_vectors.doesnt_match('приехать обращаться выигрыш дистанционно'.split())"
   ]
  },
  {
   "cell_type": "code",
   "execution_count": 38,
   "metadata": {
    "ExecuteTime": {
     "end_time": "2021-12-20T07:27:54.200549Z",
     "start_time": "2021-12-20T07:27:54.180549Z"
    }
   },
   "outputs": [
    {
     "data": {
      "text/plain": [
       "-0.073333375"
      ]
     },
     "execution_count": 38,
     "metadata": {},
     "output_type": "execute_result"
    }
   ],
   "source": [
    "word_vectors.similarity('карта', 'шапка')"
   ]
  },
  {
   "cell_type": "markdown",
   "metadata": {
    "ExecuteTime": {
     "end_time": "2021-12-17T12:12:30.030486Z",
     "start_time": "2021-12-17T12:12:30.000486Z"
    }
   },
   "source": [
    "### Постройте несколько визуализаций:\n",
    "#### TSNE для топ-100 (или топ-500) слов и найдите осмысленные кластеры слов"
   ]
  },
  {
   "cell_type": "code",
   "execution_count": 6,
   "metadata": {
    "ExecuteTime": {
     "end_time": "2021-12-21T12:38:13.860962Z",
     "start_time": "2021-12-21T12:38:13.710962Z"
    }
   },
   "outputs": [],
   "source": [
    "from sklearn.manifold import TSNE\n",
    "from sklearn.decomposition import TruncatedSVD"
   ]
  },
  {
   "cell_type": "code",
   "execution_count": 41,
   "metadata": {
    "ExecuteTime": {
     "end_time": "2021-12-20T07:29:42.677702Z",
     "start_time": "2021-12-20T07:29:29.804684Z"
    }
   },
   "outputs": [
    {
     "name": "stderr",
     "output_type": "stream",
     "text": [
      "100%|███████████████████████████████| 153499/153499 [00:12<00:00, 12017.44it/s]\n"
     ]
    }
   ],
   "source": [
    "# соберем только 500 топ по частоте применения слов\n",
    "counter = {} # создадим словарь с частотой каждого слова\n",
    "\n",
    "for i in tqdm(result):\n",
    "    for j in i:\n",
    "        if j not in counter.keys():\n",
    "            counter[j] = 1\n",
    "        else:\n",
    "            counter[j] +=1\n",
    "counter = dict(sorted( counter.items(), key= lambda x: x[1] ,reverse=True ) )"
   ]
  },
  {
   "cell_type": "code",
   "execution_count": 43,
   "metadata": {
    "ExecuteTime": {
     "end_time": "2021-12-20T07:29:53.038717Z",
     "start_time": "2021-12-20T07:29:53.018717Z"
    }
   },
   "outputs": [],
   "source": [
    "most_common_500_words = list(counter.keys())[:500]"
   ]
  },
  {
   "cell_type": "code",
   "execution_count": 44,
   "metadata": {
    "ExecuteTime": {
     "end_time": "2021-12-20T07:30:07.371743Z",
     "start_time": "2021-12-20T07:30:04.969734Z"
    }
   },
   "outputs": [
    {
     "name": "stderr",
     "output_type": "stream",
     "text": [
      " 47%|███████████████████▌                      | 27/58 [00:02<00:02, 11.38it/s]\n"
     ]
    },
    {
     "data": {
      "text/plain": [
       "0.9042083"
      ]
     },
     "execution_count": 44,
     "metadata": {},
     "output_type": "execute_result"
    }
   ],
   "source": [
    "# уменьшим размерность чтобы оставить 90% дисперсии:\n",
    "for i in tqdm(range(10,300,5)):\n",
    "    svd = TruncatedSVD(n_components=i,n_iter=5)\n",
    "    svd.fit( word_vectors[most_common_500_words] )\n",
    "    a = svd.explained_variance_ratio_.sum()\n",
    "    if a > .9:break\n",
    "a"
   ]
  },
  {
   "cell_type": "code",
   "execution_count": 45,
   "metadata": {
    "ExecuteTime": {
     "end_time": "2021-12-20T07:30:36.534784Z",
     "start_time": "2021-12-20T07:30:36.514784Z"
    }
   },
   "outputs": [
    {
     "data": {
      "text/plain": [
       "145"
      ]
     },
     "execution_count": 45,
     "metadata": {},
     "output_type": "execute_result"
    }
   ],
   "source": [
    "svd.n_components"
   ]
  },
  {
   "cell_type": "markdown",
   "metadata": {},
   "source": [
    "Можно уменьшить размерность каждого слова из 300 признаков в 145"
   ]
  },
  {
   "cell_type": "code",
   "execution_count": 47,
   "metadata": {
    "ExecuteTime": {
     "end_time": "2021-12-20T07:33:11.109003Z",
     "start_time": "2021-12-20T07:33:11.089003Z"
    }
   },
   "outputs": [
    {
     "data": {
      "text/plain": [
       "(500, 300)"
      ]
     },
     "execution_count": 47,
     "metadata": {},
     "output_type": "execute_result"
    }
   ],
   "source": [
    "word_vectors[most_common_500_words].shape"
   ]
  },
  {
   "cell_type": "code",
   "execution_count": 48,
   "metadata": {
    "ExecuteTime": {
     "end_time": "2021-12-20T07:33:31.262031Z",
     "start_time": "2021-12-20T07:33:31.212031Z"
    }
   },
   "outputs": [
    {
     "data": {
      "text/plain": [
       "(500, 145)"
      ]
     },
     "execution_count": 48,
     "metadata": {},
     "output_type": "execute_result"
    }
   ],
   "source": [
    "reduced_vectors = svd.transform(word_vectors[most_common_500_words])\n",
    "reduced_vectors.shape"
   ]
  },
  {
   "cell_type": "code",
   "execution_count": null,
   "metadata": {
    "ExecuteTime": {
     "end_time": "2021-12-20T07:43:08.317415Z",
     "start_time": "2021-12-20T07:43:04.843226Z"
    }
   },
   "outputs": [],
   "source": [
    "# еще сжиаем для визуализации:\n",
    "reduced_vectors_afterTSNE = TSNE(n_components=2,metric='cosine').fit_transform(reduced_vectors)"
   ]
  },
  {
   "cell_type": "code",
   "execution_count": 79,
   "metadata": {
    "ExecuteTime": {
     "end_time": "2021-12-20T07:55:03.392472Z",
     "start_time": "2021-12-20T07:55:03.372472Z"
    }
   },
   "outputs": [],
   "source": [
    "visualisation_df = pd.DataFrame({'X': reduced_vectors_afterTSNE[:, 0], 'Y': reduced_vectors_afterTSNE[:, 1]})"
   ]
  },
  {
   "cell_type": "code",
   "execution_count": 56,
   "metadata": {
    "ExecuteTime": {
     "end_time": "2021-12-20T07:41:45.894115Z",
     "start_time": "2021-12-20T07:41:45.874114Z"
    }
   },
   "outputs": [],
   "source": [
    "from sklearn.cluster import DBSCAN"
   ]
  },
  {
   "cell_type": "code",
   "execution_count": 83,
   "metadata": {
    "ExecuteTime": {
     "end_time": "2021-12-20T07:55:35.187517Z",
     "start_time": "2021-12-20T07:55:30.056510Z"
    }
   },
   "outputs": [
    {
     "data": {
      "image/png": "[encoded data removed]",
      "text/plain": [
       "<Figure size 772x720 with 1 Axes>"
      ]
     },
     "metadata": {
      "needs_background": "light"
     },
     "output_type": "display_data"
    }
   ],
   "source": [
    "# кластеризовывать будет DBSCAN\n",
    "dbb = DBSCAN(eps=2.3, n_jobs=-1)\n",
    "visualisation_df['category'] = dbb.fit_predict(reduced_vectors_afterTSNE)\n",
    "\n",
    "sns.FacetGrid(visualisation_df, height=10,hue='category').map(plt.scatter, \"X\", \"Y\").add_legend()\n",
    "plt.title('Рис.1 Кластеры слов. \\n Слова разбиты на вектора сжаты SVD и T-SNE, сгруппированы DBSCAN');"
   ]
  },
  {
   "cell_type": "code",
   "execution_count": 82,
   "metadata": {
    "ExecuteTime": {
     "end_time": "2021-12-20T07:55:23.426501Z",
     "start_time": "2021-12-20T07:55:23.406501Z"
    }
   },
   "outputs": [
    {
     "data": {
      "text/html": [
       "<div>\n",
       "<style scoped>\n",
       "    .dataframe tbody tr th:only-of-type {\n",
       "        vertical-align: middle;\n",
       "    }\n",
       "\n",
       "    .dataframe tbody tr th {\n",
       "        vertical-align: top;\n",
       "    }\n",
       "\n",
       "    .dataframe thead th {\n",
       "        text-align: right;\n",
       "    }\n",
       "</style>\n",
       "<table border=\"1\" class=\"dataframe\">\n",
       "  <thead>\n",
       "    <tr style=\"text-align: right;\">\n",
       "      <th></th>\n",
       "      <th>X</th>\n",
       "      <th>Y</th>\n",
       "      <th>category</th>\n",
       "      <th>word</th>\n",
       "    </tr>\n",
       "  </thead>\n",
       "  <tbody>\n",
       "    <tr>\n",
       "      <th>0</th>\n",
       "      <td>24.723335</td>\n",
       "      <td>5.582405</td>\n",
       "      <td>-1</td>\n",
       "      <td>банк</td>\n",
       "    </tr>\n",
       "    <tr>\n",
       "      <th>1</th>\n",
       "      <td>24.126062</td>\n",
       "      <td>18.343683</td>\n",
       "      <td>-1</td>\n",
       "      <td>карта</td>\n",
       "    </tr>\n",
       "    <tr>\n",
       "      <th>2</th>\n",
       "      <td>-1.494846</td>\n",
       "      <td>-10.559139</td>\n",
       "      <td>0</td>\n",
       "      <td>это</td>\n",
       "    </tr>\n",
       "  </tbody>\n",
       "</table>\n",
       "</div>"
      ],
      "text/plain": [
       "           X          Y  category   word\n",
       "0  24.723335   5.582405        -1   банк\n",
       "1  24.126062  18.343683        -1  карта\n",
       "2  -1.494846 -10.559139         0    это"
      ]
     },
     "execution_count": 82,
     "metadata": {},
     "output_type": "execute_result"
    }
   ],
   "source": [
    "visualisation_df['word'] = most_common_500_words\n",
    "visualisation_df.head(3)"
   ]
  },
  {
   "cell_type": "code",
   "execution_count": 84,
   "metadata": {
    "ExecuteTime": {
     "end_time": "2021-12-20T07:55:41.409526Z",
     "start_time": "2021-12-20T07:55:41.389526Z"
    }
   },
   "outputs": [],
   "source": [
    "# отсортируем по категориям \n",
    "visualisation_df.sort_values(by='category',inplace=True)"
   ]
  },
  {
   "cell_type": "markdown",
   "metadata": {
    "ExecuteTime": {
     "end_time": "2021-12-20T07:52:42.703274Z",
     "start_time": "2021-12-20T07:52:42.683274Z"
    }
   },
   "source": [
    "на рис.1 четко различима кластера 27,3. Посмотрим какие слова в этих кластерах:"
   ]
  },
  {
   "cell_type": "code",
   "execution_count": 86,
   "metadata": {
    "ExecuteTime": {
     "end_time": "2021-12-20T07:57:13.412656Z",
     "start_time": "2021-12-20T07:57:13.392656Z"
    }
   },
   "outputs": [
    {
     "data": {
      "text/plain": [
       "['декабрь',\n",
       " 'ноябрь',\n",
       " 'февраль',\n",
       " 'май',\n",
       " 'июнь',\n",
       " 'август',\n",
       " 'март',\n",
       " 'июль',\n",
       " 'очередной',\n",
       " 'январь',\n",
       " 'сентябрь',\n",
       " 'число',\n",
       " 'октябрь',\n",
       " 'апрель']"
      ]
     },
     "execution_count": 86,
     "metadata": {},
     "output_type": "execute_result"
    }
   ],
   "source": [
    "visualisation_df.loc[visualisation_df['category']==27,'word'].to_list()"
   ]
  },
  {
   "cell_type": "markdown",
   "metadata": {},
   "source": [
    "Кластер 27 - дата, месяц"
   ]
  },
  {
   "cell_type": "code",
   "execution_count": 87,
   "metadata": {
    "ExecuteTime": {
     "end_time": "2021-12-20T07:57:36.344688Z",
     "start_time": "2021-12-20T07:57:36.324688Z"
    }
   },
   "outputs": [
    {
     "data": {
      "text/plain": [
       "['девушка',\n",
       " 'представитель',\n",
       " 'оператор',\n",
       " 'кассир',\n",
       " 'сотрудница',\n",
       " 'специалист',\n",
       " 'менеджер',\n",
       " 'операционист',\n",
       " 'касса',\n",
       " 'руководство',\n",
       " 'руководитель',\n",
       " 'сотрудник',\n",
       " 'работник',\n",
       " 'операционистка']"
      ]
     },
     "execution_count": 87,
     "metadata": {},
     "output_type": "execute_result"
    }
   ],
   "source": [
    "visualisation_df.loc[visualisation_df['category']==3,'word'].to_list()"
   ]
  },
  {
   "cell_type": "markdown",
   "metadata": {},
   "source": [
    "Кластер 3- что то связанное с \"операционистами\""
   ]
  },
  {
   "cell_type": "code",
   "execution_count": 88,
   "metadata": {
    "ExecuteTime": {
     "end_time": "2021-12-20T08:00:42.548982Z",
     "start_time": "2021-12-20T08:00:42.528982Z"
    }
   },
   "outputs": [
    {
     "data": {
      "text/plain": [
       "['время',\n",
       " 'пора',\n",
       " 'минута',\n",
       " 'рабочий',\n",
       " 'неделя',\n",
       " 'час',\n",
       " 'месяц',\n",
       " 'день',\n",
       " 'год',\n",
       " 'сутки']"
      ]
     },
     "execution_count": 88,
     "metadata": {},
     "output_type": "execute_result"
    }
   ],
   "source": [
    "visualisation_df.loc[visualisation_df['category']==1,'word'].to_list()"
   ]
  },
  {
   "cell_type": "code",
   "execution_count": 89,
   "metadata": {
    "ExecuteTime": {
     "end_time": "2021-12-20T08:00:52.239996Z",
     "start_time": "2021-12-20T08:00:52.229996Z"
    }
   },
   "outputs": [
    {
     "data": {
      "text/plain": [
       "['филиал', 'туда', 'офис', 'лично', 'отделение']"
      ]
     },
     "execution_count": 89,
     "metadata": {},
     "output_type": "execute_result"
    }
   ],
   "source": [
    "visualisation_df.loc[visualisation_df['category']==2,'word'].to_list()"
   ]
  },
  {
   "cell_type": "code",
   "execution_count": 90,
   "metadata": {
    "ExecuteTime": {
     "end_time": "2021-12-20T08:01:02.281010Z",
     "start_time": "2021-12-20T08:01:02.261010Z"
    }
   },
   "outputs": [
    {
     "data": {
      "text/plain": [
       "['сообщить',\n",
       " 'выяснить',\n",
       " 'объяснять',\n",
       " 'уточнить',\n",
       " 'спрашивать',\n",
       " 'ответить',\n",
       " 'разобраться',\n",
       " 'сообщать',\n",
       " 'сказать',\n",
       " 'подтвердить',\n",
       " 'отвечать',\n",
       " 'рассказать',\n",
       " 'говорить',\n",
       " 'спросить',\n",
       " 'объяснить',\n",
       " 'узнать']"
      ]
     },
     "execution_count": 90,
     "metadata": {},
     "output_type": "execute_result"
    }
   ],
   "source": [
    "visualisation_df.loc[visualisation_df['category']==4,'word'].to_list()"
   ]
  },
  {
   "cell_type": "markdown",
   "metadata": {
    "ExecuteTime": {
     "end_time": "2021-12-17T12:12:30.030486Z",
     "start_time": "2021-12-17T12:12:30.000486Z"
    }
   },
   "source": [
    "#### задайте координаты для нового пространства следующим образом: \n",
    "одна ось описывает отношение \"плохо – хорошо\", вторая – \"медленно – быстро\" и найдите координаты названий банков в этих координатах. Более формально: берем вектор слова \"хорошо\", вычитаем из него вектор слова \"плохо\", получаем новый вектор, который описывает разницу между хорошими и плохими словами. Берем вектор слова \"сбербанк\" и умножаем его на этот новый вектор – получаем координату по первой оси. Аналогично – для второй оси. Две координаты уже можно нарисовать на плоскости."
   ]
  },
  {
   "cell_type": "markdown",
   "metadata": {},
   "source": [
    "__Я буду делать по-другому, а именно, буду делать так:__\n",
    "\n",
    "буду сравнивать куда __направлен (ключевое слово)__ вектор \"сбербанк\", в сторону слова \"хорошо\" или в сторону слова \"плохо\" .\n",
    "\n",
    "1. для этого мне нужно создать __такой вектор__, который при 0 градусов (или cos = 1) будет направлен в сторону слова \"хорошо\", а при  180 градусов (или cos = -1) будет направлен в сторону слова \"плохо\".\n",
    "\n",
    "1. тогда отмечая угол между новым ветором и вектором слова \"сбербанк\" я буду знать куда направлен вектор слова \"сбербанк\"  (в сторону слова \"хорошо\" или в сторону слова \"плохо\")\n",
    "\n",
    "1. Полученный угол будет углом, показывающим в какую сторону вектор \"сбербанк\" отклонен больше (в сторону слова \"хорошо\" или в сторону слова \"плохо\")\n",
    "\n",
    "Новый вектор будет ни чем иным, как __суммой вектора слова \"хорошо\" и вектора слова  (-) \"плохо\"__ или согласно правилу вычитания векторов _разницей между вектором слова \"хорошо\" и вектором слова \"плохо\"_"
   ]
  },
  {
   "cell_type": "code",
   "execution_count": 251,
   "metadata": {
    "ExecuteTime": {
     "end_time": "2021-12-20T12:51:19.332342Z",
     "start_time": "2021-12-20T12:51:19.322342Z"
    }
   },
   "outputs": [],
   "source": [
    "diff_good_bad = word_vectors['супер']- word_vectors['плохо'] # слова \"хорошо\" нет в корпусе\n",
    "diff_fast_slow = word_vectors['медленно']- word_vectors['быстро'] "
   ]
  },
  {
   "cell_type": "code",
   "execution_count": 216,
   "metadata": {
    "ExecuteTime": {
     "end_time": "2021-12-20T10:35:39.764891Z",
     "start_time": "2021-12-20T10:35:39.744891Z"
    }
   },
   "outputs": [],
   "source": [
    "def cosine(alpha,betta):\n",
    "    return np.dot(alpha,betta)/( np.dot(alpha,alpha)*np.dot(betta,betta) )**.5 "
   ]
  },
  {
   "cell_type": "code",
   "execution_count": 252,
   "metadata": {
    "ExecuteTime": {
     "end_time": "2021-12-20T12:51:22.203346Z",
     "start_time": "2021-12-20T12:51:22.183346Z"
    }
   },
   "outputs": [
    {
     "name": "stdout",
     "output_type": "stream",
     "text": [
      "Wall time: 0 ns\n"
     ]
    },
    {
     "data": {
      "text/plain": [
       "-0.022731468975392945"
      ]
     },
     "execution_count": 252,
     "metadata": {},
     "output_type": "execute_result"
    }
   ],
   "source": [
    "%%time\n",
    "cosine(diff_good_bad,word_vectors['сбербанк'] )"
   ]
  },
  {
   "cell_type": "code",
   "execution_count": 253,
   "metadata": {
    "ExecuteTime": {
     "end_time": "2021-12-20T12:51:25.714351Z",
     "start_time": "2021-12-20T12:51:25.694351Z"
    }
   },
   "outputs": [
    {
     "name": "stdout",
     "output_type": "stream",
     "text": [
      "Wall time: 0 ns\n"
     ]
    },
    {
     "data": {
      "text/plain": [
       "array([-0.02273147], dtype=float32)"
      ]
     },
     "execution_count": 253,
     "metadata": {},
     "output_type": "execute_result"
    }
   ],
   "source": [
    "%%time\n",
    "\n",
    "#А можно воспользоваться функцией которая есть в генсим:\n",
    "word_vectors.cosine_similarities(diff_good_bad,[word_vectors['сбербанк'] ] )"
   ]
  },
  {
   "cell_type": "markdown",
   "metadata": {},
   "source": [
    "Ячейка генсим выполняется дольше по времени, значит будем использовать numpy."
   ]
  },
  {
   "cell_type": "markdown",
   "metadata": {},
   "source": [
    "Сначала определим банки для этого отсортируем датафрейм по банкам с максимальной средней оценкой и возьмем 7 самых положительнх банков, а также 7 самый частых по отзывам банков:"
   ]
  },
  {
   "cell_type": "code",
   "execution_count": 186,
   "metadata": {
    "ExecuteTime": {
     "end_time": "2021-12-20T09:20:31.066194Z",
     "start_time": "2021-12-20T09:20:30.616194Z"
    }
   },
   "outputs": [],
   "source": [
    "ratin = pd.DataFrame(df.dropna().groupby(by='bank').rating.sum() / df.dropna().groupby(by='bank').rating.count())#.mean() #.count() #value_counts()#(\n",
    "ratin['count'] = pd.Series(df.dropna().groupby(by='bank').rating.count())"
   ]
  },
  {
   "cell_type": "code",
   "execution_count": 191,
   "metadata": {
    "ExecuteTime": {
     "end_time": "2021-12-20T09:22:53.465395Z",
     "start_time": "2021-12-20T09:22:53.445395Z"
    }
   },
   "outputs": [
    {
     "data": {
      "text/plain": [
       "(Index(['Росавтобанк', 'Эргобанк', 'Экспресс-Кредит', 'Соверен Банк',\n",
       "        'Газэнергопромбанк', 'Лефко-Банк', 'Айви Банк'],\n",
       "       dtype='object', name='bank'),\n",
       " Index(['Сбербанк России', 'Альфа-Банк', 'ВТБ 24', 'Русский Стандарт',\n",
       "        'Хоум Кредит Банк', 'Национальный Банк «Траст»', 'Ситибанк'],\n",
       "       dtype='object', name='bank'))"
      ]
     },
     "execution_count": 191,
     "metadata": {},
     "output_type": "execute_result"
    }
   ],
   "source": [
    "ratin.sort_values(by= 'rating', ascending=False,inplace=True)\n",
    "top_banks_rating = ratin[ratin['count']>5].index[:7]\n",
    "\n",
    "ratin.sort_values(by= 'count', ascending=False,inplace=True)\n",
    "top_banks_count = ratin[ratin['count']>5].index[:7]\n",
    "\n",
    "top_banks_rating, top_banks_count"
   ]
  },
  {
   "cell_type": "code",
   "execution_count": 289,
   "metadata": {
    "ExecuteTime": {
     "end_time": "2021-12-20T13:02:31.566296Z",
     "start_time": "2021-12-20T13:02:31.546296Z"
    }
   },
   "outputs": [
    {
     "data": {
      "text/plain": [
       "['росавтобанк',\n",
       " 'эргобанк',\n",
       " 'экспресскредит',\n",
       " 'соверен банк',\n",
       " 'газэнергопромбанк',\n",
       " 'лефкобанк',\n",
       " 'айви банк',\n",
       " 'сбербанк россии',\n",
       " 'альфабанк',\n",
       " 'втб 24',\n",
       " 'русский стандарт',\n",
       " 'хоум кредит банк',\n",
       " 'траст банк',\n",
       " 'ситибанк']"
      ]
     },
     "execution_count": 289,
     "metadata": {},
     "output_type": "execute_result"
    }
   ],
   "source": [
    "# Теперь соберем все вместе:\n",
    "top_bank_list = [i.lower().replace('-','').replace('национальный банк «траст»','траст банк') for i in top_banks_rating.append(top_banks_count) ]#, top_banks_count\n",
    "top_bank_list"
   ]
  },
  {
   "cell_type": "code",
   "execution_count": 290,
   "metadata": {
    "ExecuteTime": {
     "end_time": "2021-12-20T13:02:40.278309Z",
     "start_time": "2021-12-20T13:02:40.268309Z"
    }
   },
   "outputs": [],
   "source": [
    "# отметим каждый банк в новой координатно плоскости:\n",
    "bank_list_good_or_bad = []\n",
    "bank_list_fast_or_slow = []\n",
    "\n",
    "for i in top_bank_list:\n",
    "    try:\n",
    "        bank_list_good_or_bad.append( cosine(diff_good_bad, word_vectors[i.split()[0]] ) )\n",
    "        bank_list_fast_or_slow.append( cosine(diff_fast_slow, word_vectors[i.split()[0]] ) )\n",
    "    except:\n",
    "        bank_list_good_or_bad.append( np.nan )\n",
    "        bank_list_fast_or_slow.append( np.nan )"
   ]
  },
  {
   "cell_type": "code",
   "execution_count": 291,
   "metadata": {
    "ExecuteTime": {
     "end_time": "2021-12-20T13:02:42.408312Z",
     "start_time": "2021-12-20T13:02:42.388312Z"
    }
   },
   "outputs": [],
   "source": [
    "# подготовим для визуализации и визуализируем:\n",
    "df_vis = pd.DataFrame(data=bank_list_good_or_bad, index=top_bank_list,columns=['good_or_bad'])\n",
    "df_vis['fast_or_slow'] = bank_list_fast_or_slow"
   ]
  },
  {
   "cell_type": "code",
   "execution_count": 294,
   "metadata": {
    "ExecuteTime": {
     "end_time": "2021-12-20T13:03:29.005377Z",
     "start_time": "2021-12-20T13:03:28.985377Z"
    }
   },
   "outputs": [
    {
     "data": {
      "text/html": [
       "<div>\n",
       "<style scoped>\n",
       "    .dataframe tbody tr th:only-of-type {\n",
       "        vertical-align: middle;\n",
       "    }\n",
       "\n",
       "    .dataframe tbody tr th {\n",
       "        vertical-align: top;\n",
       "    }\n",
       "\n",
       "    .dataframe thead th {\n",
       "        text-align: right;\n",
       "    }\n",
       "</style>\n",
       "<table border=\"1\" class=\"dataframe\">\n",
       "  <thead>\n",
       "    <tr style=\"text-align: right;\">\n",
       "      <th></th>\n",
       "      <th>good_or_bad</th>\n",
       "      <th>fast_or_slow</th>\n",
       "    </tr>\n",
       "  </thead>\n",
       "  <tbody>\n",
       "    <tr>\n",
       "      <th>росавтобанк</th>\n",
       "      <td>0.096473</td>\n",
       "      <td>-0.145953</td>\n",
       "    </tr>\n",
       "    <tr>\n",
       "      <th>соверен банк</th>\n",
       "      <td>0.083512</td>\n",
       "      <td>-0.145443</td>\n",
       "    </tr>\n",
       "    <tr>\n",
       "      <th>газэнергопромбанк</th>\n",
       "      <td>-0.055228</td>\n",
       "      <td>-0.025259</td>\n",
       "    </tr>\n",
       "    <tr>\n",
       "      <th>сбербанк россии</th>\n",
       "      <td>-0.022731</td>\n",
       "      <td>0.017162</td>\n",
       "    </tr>\n",
       "    <tr>\n",
       "      <th>альфабанк</th>\n",
       "      <td>0.062849</td>\n",
       "      <td>-0.017278</td>\n",
       "    </tr>\n",
       "    <tr>\n",
       "      <th>втб 24</th>\n",
       "      <td>0.078864</td>\n",
       "      <td>-0.058463</td>\n",
       "    </tr>\n",
       "    <tr>\n",
       "      <th>русский стандарт</th>\n",
       "      <td>-0.022506</td>\n",
       "      <td>-0.037855</td>\n",
       "    </tr>\n",
       "    <tr>\n",
       "      <th>хоум кредит банк</th>\n",
       "      <td>0.042232</td>\n",
       "      <td>-0.092259</td>\n",
       "    </tr>\n",
       "    <tr>\n",
       "      <th>траст банк</th>\n",
       "      <td>0.047618</td>\n",
       "      <td>-0.067821</td>\n",
       "    </tr>\n",
       "    <tr>\n",
       "      <th>ситибанк</th>\n",
       "      <td>0.069889</td>\n",
       "      <td>-0.038112</td>\n",
       "    </tr>\n",
       "  </tbody>\n",
       "</table>\n",
       "</div>"
      ],
      "text/plain": [
       "                   good_or_bad  fast_or_slow\n",
       "росавтобанк           0.096473     -0.145953\n",
       "соверен банк          0.083512     -0.145443\n",
       "газэнергопромбанк    -0.055228     -0.025259\n",
       "сбербанк россии      -0.022731      0.017162\n",
       "альфабанк             0.062849     -0.017278\n",
       "втб 24                0.078864     -0.058463\n",
       "русский стандарт     -0.022506     -0.037855\n",
       "хоум кредит банк      0.042232     -0.092259\n",
       "траст банк            0.047618     -0.067821\n",
       "ситибанк              0.069889     -0.038112"
      ]
     },
     "execution_count": 294,
     "metadata": {},
     "output_type": "execute_result"
    }
   ],
   "source": [
    "df_vis.dropna(inplace=True)\n",
    "df_vis"
   ]
  },
  {
   "cell_type": "code",
   "execution_count": 319,
   "metadata": {
    "ExecuteTime": {
     "end_time": "2021-12-20T13:20:19.569816Z",
     "start_time": "2021-12-20T13:20:18.509815Z"
    }
   },
   "outputs": [
    {
     "data": {
      "image/png": "[encoded data removed]",
      "text/plain": [
       "<Figure size 1080x504 with 1 Axes>"
      ]
     },
     "metadata": {
      "needs_background": "light"
     },
     "output_type": "display_data"
    }
   ],
   "source": [
    "plt.figure(figsize=(15,7))\n",
    "sns.scatterplot( x= 'fast_or_slow',y='good_or_bad',data=df_vis,hue=df_vis.index )\n",
    "plt.plot(np.linspace(df_vis.fast_or_slow.mean(),df_vis.fast_or_slow.mean()),np.linspace(df_vis.good_or_bad.min(),df_vis.good_or_bad.max()),'b--')\n",
    "plt.plot(np.linspace(df_vis.fast_or_slow.min(),df_vis.fast_or_slow.max()),np.linspace(df_vis.good_or_bad.mean(),df_vis.good_or_bad.mean()),'b--')\n",
    "\n",
    "plt.xlabel('<--Медленнее    Быстрее-->')\n",
    "plt.ylabel('<--Хуже      Лучше  -->  ')\n",
    "\n",
    "plt.title('Рис.2 Расположения банков в координатах \"плохо – хорошо\", \"медленно – быстро\" ');"
   ]
  },
  {
   "cell_type": "markdown",
   "metadata": {
    "ExecuteTime": {
     "end_time": "2021-12-20T12:53:34.412532Z",
     "start_time": "2021-12-20T12:53:34.402532Z"
    }
   },
   "source": [
    "Судя по рис.2, самым хорошим по метрикам \"быстро-медленно\", \"лучше-хуже\" банком можно определить банки:\n",
    "- \"Альфа банк\"\n",
    "- \"ВТБ\"\n",
    "- \"Сити Банк\"\n",
    "\n",
    ", так как он расположены в верхнем правом квадрате вышеуказанных метрик.  "
   ]
  },
  {
   "cell_type": "markdown",
   "metadata": {
    "ExecuteTime": {
     "end_time": "2021-12-17T12:12:30.030486Z",
     "start_time": "2021-12-17T12:12:30.000486Z"
    }
   },
   "source": [
    "## Задание 2:  Распространение метки\n",
    "### Определите 5-8 позитивных слов (например, “быстрый”, “удобный”) и 5-8 негативных слов (например,“очередь”, “медленно”). Эти слова будут основной будущего оценочного словаря. "
   ]
  },
  {
   "cell_type": "code",
   "execution_count": 104,
   "metadata": {
    "ExecuteTime": {
     "end_time": "2021-12-21T14:27:39.002340Z",
     "start_time": "2021-12-21T14:27:38.912340Z"
    }
   },
   "outputs": [],
   "source": [
    "from sklearn.pipeline import Pipeline\n",
    "from sklearn.ensemble import RandomForestClassifier\n",
    "from sklearn.feature_extraction.text import TfidfVectorizer"
   ]
  },
  {
   "cell_type": "markdown",
   "metadata": {},
   "source": [
    "5-8 позитивных слов и 5-8 негативных слов нам даст случайный лес:\n",
    "\n",
    "Обучим случайный лес на Tf-idf и достанем самые существенные(ключевые) слова, на которые опирается лес при прогнозировании класса. \n",
    "\n",
    "Эти слова отберем на положительные и отрицательные."
   ]
  },
  {
   "cell_type": "code",
   "execution_count": 102,
   "metadata": {
    "ExecuteTime": {
     "end_time": "2021-12-21T14:27:28.360325Z",
     "start_time": "2021-12-21T14:27:28.110325Z"
    }
   },
   "outputs": [],
   "source": [
    "new_df = pd.concat([df.dropna().loc[df.rating==1].iloc[:1000], df.dropna().loc[df.rating==5].iloc[:1000]] )"
   ]
  },
  {
   "cell_type": "code",
   "execution_count": 105,
   "metadata": {
    "ExecuteTime": {
     "end_time": "2021-12-21T14:27:41.938357Z",
     "start_time": "2021-12-21T14:27:40.524343Z"
    }
   },
   "outputs": [
    {
     "data": {
      "text/plain": [
       "Pipeline(steps=[('tfidf', TfidfVectorizer()),\n",
       "                ('rf', RandomForestClassifier(n_jobs=-1))])"
      ]
     },
     "execution_count": 105,
     "metadata": {},
     "output_type": "execute_result"
    }
   ],
   "source": [
    "rf_pipe = Pipeline([ \n",
    "    ('tfidf', TfidfVectorizer(ngram_range=(1,1))), \n",
    "    ('rf', RandomForestClassifier(n_jobs=-1))\n",
    "])\n",
    "\n",
    "X = new_df.text_processed\n",
    "y = new_df.rating.astype(int)\n",
    "\n",
    "rf_pipe.fit(X,y)"
   ]
  },
  {
   "cell_type": "code",
   "execution_count": 106,
   "metadata": {
    "ExecuteTime": {
     "end_time": "2021-12-21T14:27:45.389361Z",
     "start_time": "2021-12-21T14:27:45.299361Z"
    }
   },
   "outputs": [
    {
     "data": {
      "text/plain": [
       "спасибо          0.021193\n",
       "благодарность    0.014120\n",
       "очень            0.013830\n",
       "быстро           0.012845\n",
       "май              0.009649\n",
       "приятно          0.009600\n",
       "ответ            0.007645\n",
       "хороший          0.007357\n",
       "вклад            0.006777\n",
       "мочь             0.006453\n",
       "почему           0.005966\n",
       "положительный    0.005698\n",
       "всё              0.005517\n",
       "работа           0.005506\n",
       "оперативно       0.005477\n",
       "должный          0.005347\n",
       "звонить          0.005110\n",
       "весь             0.005053\n",
       "довольный        0.004989\n",
       "хотеть           0.004986\n",
       "dtype: float64"
      ]
     },
     "execution_count": 106,
     "metadata": {},
     "output_type": "execute_result"
    }
   ],
   "source": [
    "df_words = pd.Series(data=rf_pipe['rf'].feature_importances_,index=rf_pipe['tfidf'].get_feature_names_out())\n",
    "df_words.sort_values(ascending=False,inplace=True)\n",
    "df_words.head(20)"
   ]
  },
  {
   "cell_type": "code",
   "execution_count": 107,
   "metadata": {
    "ExecuteTime": {
     "end_time": "2021-12-21T14:27:48.709366Z",
     "start_time": "2021-12-21T14:27:48.699366Z"
    }
   },
   "outputs": [
    {
     "data": {
      "text/plain": [
       "Index(['спасибо', 'благодарность', 'очень', 'быстро', 'май', 'приятно',\n",
       "       'ответ', 'хороший', 'вклад', 'мочь', 'почему', 'положительный', 'всё',\n",
       "       'работа', 'оперативно', 'должный', 'звонить', 'весь', 'довольный',\n",
       "       'хотеть', 'апрель', 'отзыв', 'сказать', 'обслуживание', 'заявление',\n",
       "       'номер', 'открывать', 'выразить', 'сбербанк', 'деньга', 'вежливый',\n",
       "       'очередь', 'отметить', 'написать', 'приятный', 'банк', 'решить',\n",
       "       'помочь', 'жалоба', 'никто', 'дать', 'поблагодарить', 'огромный',\n",
       "       'просить', 'карта', 'удобный', 'хотеться', 'говорить', 'день', 'сумма',\n",
       "       'доброжелательный', 'сообщить', 'средство', 'клиент', 'высокий',\n",
       "       'неделя', 'занять', 'ваш', 'банкомат', 'администратор', 'рассказать',\n",
       "       'понравиться', 'вопрос', 'внимательный', 'сегодня', 'плюс', 'звонок',\n",
       "       'минута', 'сообщение', 'впечатление', 'кредит', 'большой', 'улыбка',\n",
       "       'это', 'ответить', 'тинькофф', 'сразу', 'месяц', 'выдать', 'прийти',\n",
       "       'время', 'пытаться', 'нужно', 'декабрь', 'горячий', 'профессионализм',\n",
       "       'счёт', 'задолженность', 'оперативность', 'смс', 'вообще', 'уважение',\n",
       "       'получить', 'ещё', 'открытие', 'офис', 'действие', 'сотрудник',\n",
       "       'заявка', 'срок'],\n",
       "      dtype='object')"
      ]
     },
     "execution_count": 107,
     "metadata": {},
     "output_type": "execute_result"
    }
   ],
   "source": [
    "# Эти слова деревья считают важными:\n",
    "df_words.head(100).index"
   ]
  },
  {
   "cell_type": "code",
   "execution_count": 10,
   "metadata": {
    "ExecuteTime": {
     "end_time": "2021-12-21T12:40:25.547210Z",
     "start_time": "2021-12-21T12:40:25.527210Z"
    }
   },
   "outputs": [],
   "source": [
    "positive_words = ['быстро', 'спасибо', 'приятно', 'очень', 'благодарность', 'довольный','хороший', 'вежливый','приятный','понравиться' ]\n",
    "negative_words = ['заявление', 'почему' , 'очередь','проблема','никто','ждать','просить','жалоба','написать' ]"
   ]
  },
  {
   "cell_type": "markdown",
   "metadata": {},
   "source": [
    "Посмотрим что думает об этом shap"
   ]
  },
  {
   "cell_type": "code",
   "execution_count": 17,
   "metadata": {
    "ExecuteTime": {
     "end_time": "2021-12-21T07:24:35.719487Z",
     "start_time": "2021-12-21T07:24:31.549482Z"
    }
   },
   "outputs": [],
   "source": [
    "import shap"
   ]
  },
  {
   "cell_type": "code",
   "execution_count": 34,
   "metadata": {
    "ExecuteTime": {
     "end_time": "2021-12-21T07:30:45.499009Z",
     "start_time": "2021-12-21T07:30:45.489009Z"
    }
   },
   "outputs": [
    {
     "data": {
      "text/plain": [
       "<3000x15602 sparse matrix of type '<class 'numpy.float64'>'\n",
       "\twith 287484 stored elements in Compressed Sparse Row format>"
      ]
     },
     "execution_count": 34,
     "metadata": {},
     "output_type": "execute_result"
    }
   ],
   "source": [
    "X_for_shap = rf_pipe['tfidf'].transform(X)"
   ]
  },
  {
   "cell_type": "code",
   "execution_count": null,
   "metadata": {
    "ExecuteTime": {
     "start_time": "2021-12-21T07:56:53.813Z"
    }
   },
   "outputs": [],
   "source": [
    "shap_values = shap.TreeExplainer(rf_pipe['rf'] ).shap_values(X_for_shap.toarray(),check_additivity=False)"
   ]
  },
  {
   "cell_type": "code",
   "execution_count": null,
   "metadata": {},
   "outputs": [],
   "source": [
    "# А shap ничего не сказал - но очень долго думал.."
   ]
  },
  {
   "cell_type": "code",
   "execution_count": null,
   "metadata": {
    "ExecuteTime": {
     "start_time": "2021-12-21T07:14:44.804Z"
    }
   },
   "outputs": [],
   "source": [
    "shap.summary_plot(shap_values, X_for_shap.toarray() )"
   ]
  },
  {
   "cell_type": "markdown",
   "metadata": {
    "ExecuteTime": {
     "end_time": "2021-12-17T12:12:30.030486Z",
     "start_time": "2021-12-17T12:12:30.000486Z"
    }
   },
   "source": [
    "### алгоритмы распространения метки\n",
    "\n",
    "Пусть позитивному классу соответствует метка 1, негативному – -1. Пометьте выбранные слова в лексическом графе соответствующими метками. Запустите любой известный вам метод распространения метки (Label Propogation) в лексическом графе. На выходе метода распространения ошибки должны быть новые слова, помеченные метками 1 и -1 – это и есть искомые оценочные слова.\n",
    "\n",
    "Алгоритмы распространения метки устроены примерно так: пусть мы находимся в выршине, помеченном +1. С какой-то вероятностью мы переносим эту метку на соседние узлы. С меньшей вероятностью переносим ее на вершины на расстоянии два. В конце распространения метки, часть вершин оказывается помечена меткой +1, часть – -1, большая часть остается без метки.\n",
    "\n",
    "Рекомендуемые алгоритмы распространения метки:\n",
    "\n",
    "1. graphlab.label_propagation (graphlab доступен бесплатно по образовательной лицензии)\n",
    "2. sklearn.semi_supervised.LabelPropagation\n",
    "3. sklearn.semi_supervised.LabelSpreading\n",
    "\n",
    "Пример построения графа: см. ноутбук, размещенный в текущей папке репозитория"
   ]
  },
  {
   "cell_type": "code",
   "execution_count": 7,
   "metadata": {
    "ExecuteTime": {
     "end_time": "2021-12-21T12:38:52.880017Z",
     "start_time": "2021-12-21T12:38:52.860017Z"
    }
   },
   "outputs": [],
   "source": [
    "from sklearn.semi_supervised import LabelSpreading"
   ]
  },
  {
   "cell_type": "code",
   "execution_count": 8,
   "metadata": {
    "ExecuteTime": {
     "end_time": "2021-12-21T12:38:54.170019Z",
     "start_time": "2021-12-21T12:38:54.150019Z"
    }
   },
   "outputs": [],
   "source": [
    "ssl = LabelSpreading(n_jobs=-1)"
   ]
  },
  {
   "cell_type": "code",
   "execution_count": 9,
   "metadata": {
    "ExecuteTime": {
     "end_time": "2021-12-21T12:39:57.633170Z",
     "start_time": "2021-12-21T12:39:54.301104Z"
    }
   },
   "outputs": [],
   "source": [
    "# Уменьшим размерность векторов слов:\n",
    "svd = TruncatedSVD(n_components=145,n_iter=5)\n",
    "reduced_vectors = svd.fit_transform( word_vectors.vectors )"
   ]
  },
  {
   "cell_type": "markdown",
   "metadata": {},
   "source": [
    "Созддадим массив классов:"
   ]
  },
  {
   "cell_type": "code",
   "execution_count": 11,
   "metadata": {
    "ExecuteTime": {
     "end_time": "2021-12-21T12:40:31.868218Z",
     "start_time": "2021-12-21T12:40:31.848218Z"
    }
   },
   "outputs": [
    {
     "data": {
      "text/plain": [
       "([244, 162, 611, 36, 950, 512, 124, 333, 656, 672],\n",
       " [16, 54, 65, 40, 113, 73, 78, 275, 39])"
      ]
     },
     "execution_count": 11,
     "metadata": {},
     "output_type": "execute_result"
    }
   ],
   "source": [
    "positive_words_index = [word_vectors.get_index(i) for i in positive_words]\n",
    "negative_words_index = [word_vectors.get_index(i) for i in negative_words]\n",
    "positive_words_index, negative_words_index"
   ]
  },
  {
   "cell_type": "code",
   "execution_count": 12,
   "metadata": {
    "ExecuteTime": {
     "end_time": "2021-12-21T12:40:37.729227Z",
     "start_time": "2021-12-21T12:40:37.719227Z"
    }
   },
   "outputs": [],
   "source": [
    "y = np.full((42080,), fill_value=-1)"
   ]
  },
  {
   "cell_type": "code",
   "execution_count": 13,
   "metadata": {
    "ExecuteTime": {
     "end_time": "2021-12-21T12:40:41.569232Z",
     "start_time": "2021-12-21T12:40:41.559232Z"
    }
   },
   "outputs": [],
   "source": [
    "y[positive_words_index] = 1\n",
    "y[negative_words_index] = 0"
   ]
  },
  {
   "cell_type": "code",
   "execution_count": 14,
   "metadata": {
    "ExecuteTime": {
     "end_time": "2021-12-21T12:59:27.767407Z",
     "start_time": "2021-12-21T12:42:08.420354Z"
    }
   },
   "outputs": [],
   "source": [
    "try:\n",
    "    ssl.fit(reduced_vectors,y)\n",
    "    !telegram-send \"Job's_Done\"\n",
    "except:\n",
    "    !telegram-send \"Error\""
   ]
  },
  {
   "cell_type": "markdown",
   "metadata": {},
   "source": [
    "Нельзя просто так ~~взять кольцо~~ построить распростронение метки методами SVD + sklearn.  \n",
    "\n",
    "Придется строить граф.."
   ]
  },
  {
   "cell_type": "code",
   "execution_count": 23,
   "metadata": {
    "ExecuteTime": {
     "end_time": "2021-12-21T13:30:44.752110Z",
     "start_time": "2021-12-21T13:30:44.632110Z"
    },
    "id": "48pt6nZusS8u"
   },
   "outputs": [],
   "source": [
    "import igraph as ig"
   ]
  },
  {
   "cell_type": "code",
   "execution_count": 7,
   "metadata": {
    "ExecuteTime": {
     "end_time": "2021-12-21T10:21:50.856676Z",
     "start_time": "2021-12-21T09:07:38.821749Z"
    },
    "id": "48pt6nZusS8u"
   },
   "outputs": [
    {
     "name": "stderr",
     "output_type": "stream",
     "text": [
      "100%|██████████████████████████████████| 42080/42080 [1:14:11<00:00,  9.45it/s]\n"
     ]
    }
   ],
   "source": [
    "graph = ig.Graph(directed=True)\n",
    "for word in word_vectors.key_to_index.keys():\n",
    "    graph.add_vertex(word)\n",
    "    \n",
    "    \n",
    "    \n",
    "for word in tqdm(word_vectors.key_to_index.keys()) :\n",
    "    node = graph.vs.select(name = word).indices[0]\n",
    "    similar_words = word_vectors.most_similar(word, topn=5)\n",
    "    for sim in similar_words:\n",
    "        word1 = sim[0]\n",
    "        val  = sim[1]\n",
    "        new_node = graph.vs.select(name = word1).indices[0]\n",
    "        graph.add_edge(node, new_node, weight = val)"
   ]
  },
  {
   "cell_type": "code",
   "execution_count": 9,
   "metadata": {
    "ExecuteTime": {
     "end_time": "2021-12-21T10:43:15.504514Z",
     "start_time": "2021-12-21T10:43:15.274514Z"
    }
   },
   "outputs": [],
   "source": [
    "# save\n",
    "graph.write_pickle('./processed/word_vectors_graph.pickle')"
   ]
  },
  {
   "cell_type": "code",
   "execution_count": 24,
   "metadata": {
    "ExecuteTime": {
     "end_time": "2021-12-21T13:30:57.995129Z",
     "start_time": "2021-12-21T13:30:57.265128Z"
    }
   },
   "outputs": [],
   "source": [
    "g_1 = ig.Graph.Read_Pickle('./processed/word_vectors_graph.pickle')"
   ]
  },
  {
   "cell_type": "markdown",
   "metadata": {},
   "source": [
    "Создаем метку 'label' смысл которой - принадлежность к классу положительных или отрицательных слов, \"1\" и \"0\" соотвтественно, \"-1\" - класс не определен"
   ]
  },
  {
   "cell_type": "code",
   "execution_count": 34,
   "metadata": {
    "ExecuteTime": {
     "end_time": "2021-12-21T13:51:21.592263Z",
     "start_time": "2021-12-21T13:51:21.582263Z"
    }
   },
   "outputs": [],
   "source": [
    "g_1.vs['label'] = [-1]*len(g_1.vs)"
   ]
  },
  {
   "cell_type": "code",
   "execution_count": 40,
   "metadata": {
    "ExecuteTime": {
     "end_time": "2021-12-21T13:53:10.880417Z",
     "start_time": "2021-12-21T13:53:10.710417Z"
    }
   },
   "outputs": [],
   "source": [
    "for i in positive_words:\n",
    "    g_1.vs.select(name=i)['label']=1\n",
    "    \n",
    "for i in negative_words:\n",
    "    g_1.vs.select(name=i)['label']=0"
   ]
  },
  {
   "cell_type": "markdown",
   "metadata": {},
   "source": [
    "label_propagation"
   ]
  },
  {
   "cell_type": "code",
   "execution_count": 45,
   "metadata": {
    "ExecuteTime": {
     "end_time": "2021-12-21T13:55:43.464633Z",
     "start_time": "2021-12-21T13:55:42.954632Z"
    }
   },
   "outputs": [],
   "source": [
    "# label_propagation\n",
    "targets = g_1.community_label_propagation(weights='weight', initial='label')"
   ]
  },
  {
   "cell_type": "code",
   "execution_count": 98,
   "metadata": {
    "ExecuteTime": {
     "end_time": "2021-12-21T14:21:28.104817Z",
     "start_time": "2021-12-21T14:21:28.074817Z"
    }
   },
   "outputs": [
    {
     "name": "stdout",
     "output_type": "stream",
     "text": [
      "Метод \"label_propagation\" кластеризовал: \n",
      " Положительных слов = 18144, \n",
      " Отрицательных слов = 9100\n"
     ]
    }
   ],
   "source": [
    "print('Метод \"label_propagation\" кластеризовал: \\n Положительных слов = %d, \\n Отрицательных слов = %d'% (targets.size(1),targets.size(0) ) )"
   ]
  },
  {
   "cell_type": "markdown",
   "metadata": {},
   "source": [
    "Посмотрим на слова:"
   ]
  },
  {
   "cell_type": "code",
   "execution_count": 78,
   "metadata": {
    "ExecuteTime": {
     "end_time": "2021-12-21T14:13:12.189115Z",
     "start_time": "2021-12-21T14:13:12.159114Z"
    }
   },
   "outputs": [],
   "source": [
    "df_label_propagation = pd.DataFrame(g_1.vs['name'],columns=['word'])\n",
    "df_label_propagation['label'] = targets.membership"
   ]
  },
  {
   "cell_type": "code",
   "execution_count": 79,
   "metadata": {
    "ExecuteTime": {
     "end_time": "2021-12-21T14:13:12.799115Z",
     "start_time": "2021-12-21T14:13:12.769115Z"
    }
   },
   "outputs": [
    {
     "data": {
      "text/html": [
       "<div>\n",
       "<style scoped>\n",
       "    .dataframe tbody tr th:only-of-type {\n",
       "        vertical-align: middle;\n",
       "    }\n",
       "\n",
       "    .dataframe tbody tr th {\n",
       "        vertical-align: top;\n",
       "    }\n",
       "\n",
       "    .dataframe thead th {\n",
       "        text-align: right;\n",
       "    }\n",
       "</style>\n",
       "<table border=\"1\" class=\"dataframe\">\n",
       "  <thead>\n",
       "    <tr style=\"text-align: right;\">\n",
       "      <th></th>\n",
       "      <th>word</th>\n",
       "      <th>label</th>\n",
       "    </tr>\n",
       "  </thead>\n",
       "  <tbody>\n",
       "    <tr>\n",
       "      <th>0</th>\n",
       "      <td>банк</td>\n",
       "      <td>-</td>\n",
       "    </tr>\n",
       "    <tr>\n",
       "      <th>1</th>\n",
       "      <td>карта</td>\n",
       "      <td>+</td>\n",
       "    </tr>\n",
       "    <tr>\n",
       "      <th>2</th>\n",
       "      <td>это</td>\n",
       "      <td>UNK</td>\n",
       "    </tr>\n",
       "  </tbody>\n",
       "</table>\n",
       "</div>"
      ],
      "text/plain": [
       "    word label\n",
       "0   банк     -\n",
       "1  карта     +\n",
       "2    это   UNK"
      ]
     },
     "execution_count": 79,
     "metadata": {},
     "output_type": "execute_result"
    }
   ],
   "source": [
    "a = {0:'-', #'negative_word',\n",
    "    1:'+', #'positive_word',\n",
    "    -1:'UNK'}\n",
    "\n",
    "df_label_propagation['label'] = df_label_propagation.label.map(a)\n",
    "df_label_propagation.head(3)"
   ]
  },
  {
   "cell_type": "code",
   "execution_count": 89,
   "metadata": {
    "ExecuteTime": {
     "end_time": "2021-12-21T14:17:34.292484Z",
     "start_time": "2021-12-21T14:17:34.252484Z"
    }
   },
   "outputs": [
    {
     "data": {
      "text/html": [
       "<div>\n",
       "<style scoped>\n",
       "    .dataframe tbody tr th:only-of-type {\n",
       "        vertical-align: middle;\n",
       "    }\n",
       "\n",
       "    .dataframe tbody tr th {\n",
       "        vertical-align: top;\n",
       "    }\n",
       "\n",
       "    .dataframe thead th {\n",
       "        text-align: right;\n",
       "    }\n",
       "</style>\n",
       "<table border=\"1\" class=\"dataframe\">\n",
       "  <thead>\n",
       "    <tr style=\"text-align: right;\">\n",
       "      <th></th>\n",
       "      <th>word</th>\n",
       "      <th>label</th>\n",
       "    </tr>\n",
       "  </thead>\n",
       "  <tbody>\n",
       "    <tr>\n",
       "      <th>21039</th>\n",
       "      <td>колокол</td>\n",
       "      <td>+</td>\n",
       "    </tr>\n",
       "    <tr>\n",
       "      <th>31208</th>\n",
       "      <td>акопов</td>\n",
       "      <td>+</td>\n",
       "    </tr>\n",
       "    <tr>\n",
       "      <th>31209</th>\n",
       "      <td>подобру</td>\n",
       "      <td>+</td>\n",
       "    </tr>\n",
       "    <tr>\n",
       "      <th>13652</th>\n",
       "      <td>турпоездка</td>\n",
       "      <td>+</td>\n",
       "    </tr>\n",
       "    <tr>\n",
       "      <th>31210</th>\n",
       "      <td>директриса</td>\n",
       "      <td>+</td>\n",
       "    </tr>\n",
       "  </tbody>\n",
       "</table>\n",
       "</div>"
      ],
      "text/plain": [
       "             word label\n",
       "21039     колокол     +\n",
       "31208      акопов     +\n",
       "31209     подобру     +\n",
       "13652  турпоездка     +\n",
       "31210  директриса     +"
      ]
     },
     "execution_count": 89,
     "metadata": {},
     "output_type": "execute_result"
    }
   ],
   "source": [
    "df_label_propagation.sort_values(by='label',inplace=True)\n",
    "df_label_propagation.head()"
   ]
  },
  {
   "cell_type": "markdown",
   "metadata": {},
   "source": [
    "Момент истины - какие же слова нашел метод?"
   ]
  },
  {
   "cell_type": "code",
   "execution_count": 87,
   "metadata": {
    "ExecuteTime": {
     "end_time": "2021-12-21T14:16:43.134412Z",
     "start_time": "2021-12-21T14:16:43.114412Z"
    }
   },
   "outputs": [
    {
     "data": {
      "text/plain": [
       "'карта , день , всё , кредит , отделение , сотрудник , мочь , счёт , сумма , заявление , год , вопрос , время , получить , кредитный , офис , телефон , платёж , договор , дать , номер , звонить , сбербанк , позвонить , месяц , написать , проблема , работать , рубль , работа , документ , ситуация , звонок , прийти , решить , говорить , человек , хотеть , операция , почему , должный , информация , сделать , срок , заявка , знать , просто , обслуживание , очередь , минута'"
      ]
     },
     "execution_count": 87,
     "metadata": {},
     "output_type": "execute_result"
    }
   ],
   "source": [
    "# 50 положительных слов\n",
    "label_propagation_positive_words = df_label_propagation.loc[df_label_propagation.label=='+','word'].to_list()\n",
    "' , '.join(label_propagation_positive_words[:50])"
   ]
  },
  {
   "cell_type": "code",
   "execution_count": 86,
   "metadata": {
    "ExecuteTime": {
     "end_time": "2021-12-21T14:16:00.900352Z",
     "start_time": "2021-12-21T14:16:00.880352Z"
    }
   },
   "outputs": [
    {
     "data": {
      "text/plain": [
       "'банк , деньга , клиент , свой , сказать , ещё , весь , ответ , вклад , ваш , банкомат , очень , средство , смс , услуга , большой , первый , сайт , новый , интернет , никакой , сообщить , ответить , следующий , хотя , система , денежный , отзыв , хороший , итог , узнать , касса , оказаться , добрый , самый , последний , второй , спасибо , письмо , линия , снова , либо , отвечать , страховка , поэтому , полный , результат , уточнить , сообщение , терминал'"
      ]
     },
     "execution_count": 86,
     "metadata": {},
     "output_type": "execute_result"
    }
   ],
   "source": [
    "# 50 отрицательных слов\n",
    "label_propagation_negative_words = df_label_propagation.loc[df_label_propagation.label=='-','word'].to_list()\n",
    "' , '.join(label_propagation_negative_words[:50])"
   ]
  },
  {
   "cell_type": "code",
   "execution_count": null,
   "metadata": {},
   "outputs": [],
   "source": []
  }
 ],
 "metadata": {
  "colab": {
   "collapsed_sections": [],
   "name": "HW2_banki_sent-vocab.ipynb",
   "provenance": []
  },
  "kernelspec": {
   "display_name": "Python 3 (ipykernel)",
   "language": "python",
   "name": "python3"
  },
  "language_info": {
   "codemirror_mode": {
    "name": "ipython",
    "version": 3
   },
   "file_extension": ".py",
   "mimetype": "text/x-python",
   "name": "python",
   "nbconvert_exporter": "python",
   "pygments_lexer": "ipython3",
   "version": "3.8.5"
  },
  "toc": {
   "base_numbering": 1,
   "nav_menu": {},
   "number_sections": true,
   "sideBar": true,
   "skip_h1_title": true,
   "title_cell": "Table of Contents",
   "title_sidebar": "Contents",
   "toc_cell": true,
   "toc_position": {},
   "toc_section_display": true,
   "toc_window_display": false
  }
 },
 "nbformat": 4,
 "nbformat_minor": 1
}
