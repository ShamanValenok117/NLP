{
 "cells": [
  {
   "cell_type": "markdown",
   "metadata": {
    "toc": true
   },
   "source": [
    "<h1>Table of Contents<span class=\"tocSkip\"></span></h1>\n",
    "<div class=\"toc\"><ul class=\"toc-item\"><li><span><a href=\"#Часть-1.-Анализ-текстов\" data-toc-modified-id=\"Часть-1.-Анализ-текстов-1\">Часть 1. Анализ текстов</a></span><ul class=\"toc-item\"><li><span><a href=\"#1.-Посчитайте-количество-отзывов-в-разных-городах-и-на-разные-банки\" data-toc-modified-id=\"1.-Посчитайте-количество-отзывов-в-разных-городах-и-на-разные-банки-1.1\">1. Посчитайте количество отзывов в разных городах и на разные банки</a></span></li><li><span><a href=\"#2.-Постройте-гистограмы-длин-слов-в-символах-и-в-словах\" data-toc-modified-id=\"2.-Постройте-гистограмы-длин-слов-в-символах-и-в-словах-1.2\">2. Постройте гистограмы длин слов в символах и в словах</a></span></li><li><span><a href=\"#3.-Найдите-10-самых-частых:\" data-toc-modified-id=\"3.-Найдите-10-самых-частых:-1.3\">3. Найдите 10 самых частых:</a></span></li><li><span><a href=\"#4.-Постройте-кривые-Ципфа-и-Хипса\" data-toc-modified-id=\"4.-Постройте-кривые-Ципфа-и-Хипса-1.4\">4. Постройте кривые Ципфа и Хипса</a></span></li><li><span><a href=\"#5.-Ответьте-на-следующие-вопросы:\" data-toc-modified-id=\"5.-Ответьте-на-следующие-вопросы:-1.5\">5. Ответьте на следующие вопросы:</a></span></li><li><span><a href=\"#6.-В-поле-&quot;rating_grade&quot;-записана-оценка-отзыва-по-шкале-от-1-до-5.\" data-toc-modified-id=\"6.-В-поле-&quot;rating_grade&quot;-записана-оценка-отзыва-по-шкале-от-1-до-5.-1.6\">6. В поле \"rating_grade\" записана оценка отзыва по шкале от 1 до 5.</a></span></li></ul></li><li><span><a href=\"#Часть-2.-Тематическое-моделирование\" data-toc-modified-id=\"Часть-2.-Тематическое-моделирование-2\">Часть 2. Тематическое моделирование</a></span><ul class=\"toc-item\"><li><span><a href=\"#1.-Постройте-несколько-тематических-моделей-коллекции-документов-с-разным-числом-тем.-Приведите-примеры-понятных-(интерпретируемых)-тем.\" data-toc-modified-id=\"1.-Постройте-несколько-тематических-моделей-коллекции-документов-с-разным-числом-тем.-Приведите-примеры-понятных-(интерпретируемых)-тем.-2.1\">1. Постройте несколько тематических моделей коллекции документов с разным числом тем. Приведите примеры понятных (интерпретируемых) тем.</a></span></li><li><span><a href=\"#2.-Найдите-темы,-в-которых-упомянуты-конкретные-банки-(Сбербанк,-ВТБ,-другой-банк).-Можете-ли-вы-их-прокомментировать-/-объяснить?\" data-toc-modified-id=\"2.-Найдите-темы,-в-которых-упомянуты-конкретные-банки-(Сбербанк,-ВТБ,-другой-банк).-Можете-ли-вы-их-прокомментировать-/-объяснить?-2.2\">2. Найдите темы, в которых упомянуты конкретные банки (Сбербанк, ВТБ, другой банк). Можете ли вы их прокомментировать / объяснить?</a></span></li></ul></li><li><span><a href=\"#Часть-3.-Классификация-текстов\" data-toc-modified-id=\"Часть-3.-Классификация-текстов-3\">Часть 3. Классификация текстов</a></span><ul class=\"toc-item\"><li><span><a href=\"#1.-Составьте-обучающее-и-тестовое-множество:\" data-toc-modified-id=\"1.-Составьте-обучающее-и-тестовое-множество:-3.1\">1. Составьте обучающее и тестовое множество:</a></span></li><li><span><a href=\"#2.-Используйте-любой-известный-вам-алгоритм-классификации-текстов-для-решения-задачи-и-получите-baseline.\" data-toc-modified-id=\"2.-Используйте-любой-известный-вам-алгоритм-классификации-текстов-для-решения-задачи-и-получите-baseline.-3.2\">2. Используйте любой известный вам алгоритм классификации текстов для решения задачи и получите baseline.</a></span><ul class=\"toc-item\"><li><span><a href=\"#one-word-----униграмы-(1,1)\" data-toc-modified-id=\"one-word-----униграмы-(1,1)-3.2.1\">one word  -  униграмы (1,1)</a></span></li><li><span><a href=\"#two-words---биграмы-(2,2)\" data-toc-modified-id=\"two-words---биграмы-(2,2)-3.2.2\">two words - биграмы (2,2)</a></span></li><li><span><a href=\"#three-words---триграмы-(3,3)\" data-toc-modified-id=\"three-words---триграмы-(3,3)-3.2.3\">three words - триграмы (3,3)</a></span></li><li><span><a href=\"#Результаты:\" data-toc-modified-id=\"Результаты:-3.2.4\">Результаты:</a></span></li></ul></li><li><span><a href=\"#3.-Сравните,-как-изменяется-качество-решения-задачи-при-использовании-скрытых-тем-в-качестве-признаков:\" data-toc-modified-id=\"3.-Сравните,-как-изменяется-качество-решения-задачи-при-использовании-скрытых-тем-в-качестве-признаков:-3.3\">3. Сравните, как изменяется качество решения задачи при использовании скрытых тем в качестве признаков:</a></span><ul class=\"toc-item\"><li><span><a href=\"#Option-1.-𝑡𝑓−𝑖𝑑𝑓-преобразование-(TfidfTransformer)-+-семантический-анализ-(TruncatedSVD)\" data-toc-modified-id=\"Option-1.-𝑡𝑓−𝑖𝑑𝑓-преобразование-(TfidfTransformer)-+-семантический-анализ-(TruncatedSVD)-3.3.1\">Option 1. 𝑡𝑓−𝑖𝑑𝑓 преобразование (TfidfTransformer) + семантический анализ (TruncatedSVD)</a></span></li><li><span><a href=\"#Option-2.-тематические-модели-LDA-(LatentDirichletAllocation)\" data-toc-modified-id=\"Option-2.-тематические-модели-LDA-(LatentDirichletAllocation)-3.3.2\">Option 2. тематические модели LDA (LatentDirichletAllocation)</a></span></li><li><span><a href=\"#Результаты:\" data-toc-modified-id=\"Результаты:-3.3.3\">Результаты:</a></span></li></ul></li></ul></li></ul></div>"
   ]
  },
  {
   "cell_type": "code",
   "execution_count": 1,
   "metadata": {
    "ExecuteTime": {
     "end_time": "2021-11-18T12:56:48.555765Z",
     "start_time": "2021-11-18T12:56:45.973759Z"
    },
    "id": "h1dvK7H_qauH"
   },
   "outputs": [
    {
     "name": "stdout",
     "output_type": "stream",
     "text": [
      "Populating the interactive namespace from numpy and matplotlib\n"
     ]
    }
   ],
   "source": [
    "import json\n",
    "\n",
    "import bz2\n",
    "from tqdm import tqdm\n",
    "from scipy import sparse\n",
    "\n",
    "import pandas as pd\n",
    "import numpy as np\n",
    "import nltk\n",
    "\n",
    "import pickle \n",
    "import matplotlib.pyplot as plt\n",
    "import seaborn as sns\n",
    "%matplotlib inline\n",
    "%pylab inline"
   ]
  },
  {
   "cell_type": "code",
   "execution_count": 2,
   "metadata": {
    "ExecuteTime": {
     "end_time": "2021-11-18T12:56:49.865766Z",
     "start_time": "2021-11-18T12:56:49.465766Z"
    }
   },
   "outputs": [],
   "source": [
    "import re\n",
    "from nltk.corpus import stopwords\n",
    "#from string import punctuation\n",
    "from pymorphy2 import MorphAnalyzer\n",
    "ma = MorphAnalyzer()\n",
    "from collections import Counter"
   ]
  },
  {
   "cell_type": "code",
   "execution_count": 3,
   "metadata": {
    "ExecuteTime": {
     "end_time": "2021-11-18T12:56:55.341778Z",
     "start_time": "2021-11-18T12:56:51.495769Z"
    }
   },
   "outputs": [],
   "source": [
    "# to load final dataframe\n",
    "with open('./processed/df.pickle' , 'rb') as f:\n",
    "    df = pickle.load(f)\n",
    "f.close()"
   ]
  },
  {
   "cell_type": "code",
   "execution_count": 10,
   "metadata": {
    "ExecuteTime": {
     "end_time": "2021-11-17T12:36:38.463836Z",
     "start_time": "2021-11-17T12:34:37.548045Z"
    },
    "id": "UNHVsbPnqauL",
    "outputId": "e8d7d7f4-576b-4846-b06a-f3b4a08adb95",
    "scrolled": true
   },
   "outputs": [
    {
     "name": "stderr",
     "output_type": "stream",
     "text": [
      "201030it [02:00, 1662.70it/s]\n"
     ]
    }
   ],
   "source": [
    "responses = []\n",
    "with bz2.BZ2File('./banki_responses.json.bz2','r') as thefile:\n",
    "    for row in tqdm(thefile):\n",
    "        resp = json.loads(row)\n",
    "        if not resp['rating_not_checked'] and (len(resp['text'].split()) > 0):\n",
    "            responses.append(resp)"
   ]
  },
  {
   "cell_type": "markdown",
   "metadata": {
    "id": "F0ixYxfSqauM"
   },
   "source": [
    "\n",
    "Посмотрим на пример отзыва:"
   ]
  },
  {
   "cell_type": "code",
   "execution_count": 13,
   "metadata": {
    "ExecuteTime": {
     "end_time": "2021-11-17T12:38:10.989966Z",
     "start_time": "2021-11-17T12:38:10.969966Z"
    },
    "id": "Dd7m6GpMqauP",
    "outputId": "975085c3-9f8c-4a64-ac12-747ffab282ce"
   },
   "outputs": [
    {
     "data": {
      "text/plain": [
       "{'city': 'г. Саратов',\n",
       " 'rating_not_checked': False,\n",
       " 'title': 'Карта ко вкладу',\n",
       " 'num_comments': 0,\n",
       " 'bank_license': 'лицензия № 880',\n",
       " 'author': 'ronnichka',\n",
       " 'bank_name': 'Югра',\n",
       " 'datetime': '2015-06-03 20:56:57',\n",
       " 'text': 'Здравствуйте! Хотела написать, что мне месяц не выдают карту ко вкладу, ссылаясь на \"нам же их из Самары везут\" (на секундочку 5 часов езды от нашего города). Но! Прочитала, что людям 3,5 месяцев не выдают карту, и поняла, что у меня все хорошо, пока что. И подарок мне дали, и кулер в отделении есть. Так что я, конечно, готова ждать. Правда хотелось бы не очень долго.',\n",
       " 'rating_grade': 3}"
      ]
     },
     "execution_count": 13,
     "metadata": {},
     "output_type": "execute_result"
    }
   ],
   "source": [
    "responses[99]"
   ]
  },
  {
   "cell_type": "code",
   "execution_count": 15,
   "metadata": {
    "ExecuteTime": {
     "end_time": "2021-11-17T12:43:52.178176Z",
     "start_time": "2021-11-17T12:43:49.267171Z"
    }
   },
   "outputs": [],
   "source": [
    "# save\n",
    "with open('./preprocessed/responces.pickle' , 'wb') as f:\n",
    "    pickle.dump(responses,f)\n",
    "f.close() \n"
   ]
  },
  {
   "cell_type": "code",
   "execution_count": 25,
   "metadata": {
    "ExecuteTime": {
     "end_time": "2021-11-17T14:45:39.414041Z",
     "start_time": "2021-11-17T14:45:36.424037Z"
    }
   },
   "outputs": [],
   "source": [
    "# to open\n",
    "with open('./preprocessed/responces.pickle' , 'rb') as f:\n",
    "    responces = pickle.load(f)\n",
    "f.close()"
   ]
  },
  {
   "cell_type": "code",
   "execution_count": 53,
   "metadata": {
    "ExecuteTime": {
     "end_time": "2021-11-17T16:01:44.111110Z",
     "start_time": "2021-11-17T14:56:56.841006Z"
    }
   },
   "outputs": [
    {
     "name": "stderr",
     "output_type": "stream",
     "text": [
      "100%|████████████████████████████████| 153499/153499 [1:04:47<00:00, 39.49it/s]\n"
     ]
    },
    {
     "data": {
      "text/html": [
       "<div>\n",
       "<style scoped>\n",
       "    .dataframe tbody tr th:only-of-type {\n",
       "        vertical-align: middle;\n",
       "    }\n",
       "\n",
       "    .dataframe tbody tr th {\n",
       "        vertical-align: top;\n",
       "    }\n",
       "\n",
       "    .dataframe thead th {\n",
       "        text-align: right;\n",
       "    }\n",
       "</style>\n",
       "<table border=\"1\" class=\"dataframe\">\n",
       "  <thead>\n",
       "    <tr style=\"text-align: right;\">\n",
       "      <th></th>\n",
       "      <th>bank_name</th>\n",
       "      <th>city</th>\n",
       "      <th>rating_grade</th>\n",
       "      <th>text</th>\n",
       "    </tr>\n",
       "  </thead>\n",
       "  <tbody>\n",
       "    <tr>\n",
       "      <th>0</th>\n",
       "      <td>Бинбанк</td>\n",
       "      <td>г. Москва</td>\n",
       "      <td>None</td>\n",
       "      <td>Добрый день! Я не являюсь клиентом банка и пор...</td>\n",
       "    </tr>\n",
       "    <tr>\n",
       "      <th>1</th>\n",
       "      <td>Сбербанк России</td>\n",
       "      <td>г. Новосибирск</td>\n",
       "      <td>None</td>\n",
       "      <td>Доброго дня! Являюсь держателем зарплатной кар...</td>\n",
       "    </tr>\n",
       "    <tr>\n",
       "      <th>2</th>\n",
       "      <td>Бинбанк</td>\n",
       "      <td>г. Москва</td>\n",
       "      <td>None</td>\n",
       "      <td>Здравствуйте!  Дублирую свое заявление от 03.0...</td>\n",
       "    </tr>\n",
       "    <tr>\n",
       "      <th>3</th>\n",
       "      <td>Сбербанк России</td>\n",
       "      <td>г. Ставрополь</td>\n",
       "      <td>None</td>\n",
       "      <td>Добрый день!! Я открыл расчетный счет в СберБа...</td>\n",
       "    </tr>\n",
       "    <tr>\n",
       "      <th>4</th>\n",
       "      <td>ОТП Банк</td>\n",
       "      <td>г. Челябинск</td>\n",
       "      <td>None</td>\n",
       "      <td>04.03.2015 г. взяла кредит в вашем банке, заяв...</td>\n",
       "    </tr>\n",
       "  </tbody>\n",
       "</table>\n",
       "</div>"
      ],
      "text/plain": [
       "         bank_name            city rating_grade  \\\n",
       "0          Бинбанк       г. Москва         None   \n",
       "1  Сбербанк России  г. Новосибирск         None   \n",
       "2          Бинбанк       г. Москва         None   \n",
       "3  Сбербанк России   г. Ставрополь         None   \n",
       "4         ОТП Банк    г. Челябинск         None   \n",
       "\n",
       "                                                text  \n",
       "0  Добрый день! Я не являюсь клиентом банка и пор...  \n",
       "1  Доброго дня! Являюсь держателем зарплатной кар...  \n",
       "2  Здравствуйте!  Дублирую свое заявление от 03.0...  \n",
       "3  Добрый день!! Я открыл расчетный счет в СберБа...  \n",
       "4  04.03.2015 г. взяла кредит в вашем банке, заяв...  "
      ]
     },
     "execution_count": 53,
     "metadata": {},
     "output_type": "execute_result"
    }
   ],
   "source": [
    "df = pd.DataFrame()\n",
    "for i in tqdm(responces):\n",
    "    df = df.append(pd.Series(i)[['city','bank_name','text','rating_grade']],ignore_index=True)\n",
    "    #break\n",
    "df.head()"
   ]
  },
  {
   "cell_type": "code",
   "execution_count": 54,
   "metadata": {
    "ExecuteTime": {
     "end_time": "2021-11-17T16:01:46.073114Z",
     "start_time": "2021-11-17T16:01:44.111110Z"
    }
   },
   "outputs": [],
   "source": [
    "with open('./preprocessed/df.pickle' , 'wb') as f:\n",
    "    pickle.dump(df,f)\n",
    "f.close() "
   ]
  },
  {
   "cell_type": "code",
   "execution_count": 17,
   "metadata": {
    "ExecuteTime": {
     "end_time": "2021-11-17T14:43:17.565841Z",
     "start_time": "2021-11-17T14:43:17.455841Z"
    }
   },
   "outputs": [],
   "source": [
    "# to open\n",
    "with open('./preprocessed/df.pickle' , 'rb') as f:\n",
    "    df = pickle.load(f)\n",
    "f.close()"
   ]
  },
  {
   "cell_type": "code",
   "execution_count": 18,
   "metadata": {
    "ExecuteTime": {
     "end_time": "2021-11-17T14:43:18.966843Z",
     "start_time": "2021-11-17T14:43:18.936843Z"
    }
   },
   "outputs": [
    {
     "data": {
      "text/html": [
       "<div>\n",
       "<style scoped>\n",
       "    .dataframe tbody tr th:only-of-type {\n",
       "        vertical-align: middle;\n",
       "    }\n",
       "\n",
       "    .dataframe tbody tr th {\n",
       "        vertical-align: top;\n",
       "    }\n",
       "\n",
       "    .dataframe thead th {\n",
       "        text-align: right;\n",
       "    }\n",
       "</style>\n",
       "<table border=\"1\" class=\"dataframe\">\n",
       "  <thead>\n",
       "    <tr style=\"text-align: right;\">\n",
       "      <th></th>\n",
       "      <th>author</th>\n",
       "      <th>bank_license</th>\n",
       "      <th>bank_name</th>\n",
       "      <th>city</th>\n",
       "      <th>datetime</th>\n",
       "      <th>num_comments</th>\n",
       "      <th>rating_grade</th>\n",
       "      <th>rating_not_checked</th>\n",
       "      <th>text</th>\n",
       "      <th>title</th>\n",
       "    </tr>\n",
       "  </thead>\n",
       "  <tbody>\n",
       "    <tr>\n",
       "      <th>0</th>\n",
       "      <td>uhnov1</td>\n",
       "      <td>лицензия № 2562</td>\n",
       "      <td>Бинбанк</td>\n",
       "      <td>г. Москва</td>\n",
       "      <td>2015-06-08 12:50:54</td>\n",
       "      <td>0.0</td>\n",
       "      <td>None</td>\n",
       "      <td>0.0</td>\n",
       "      <td>Добрый день! Я не являюсь клиентом банка и пор...</td>\n",
       "      <td>Жалоба</td>\n",
       "    </tr>\n",
       "    <tr>\n",
       "      <th>1</th>\n",
       "      <td>uhnov1</td>\n",
       "      <td>лицензия № 2562</td>\n",
       "      <td>Бинбанк</td>\n",
       "      <td>г. Москва</td>\n",
       "      <td>2015-06-08 12:50:54</td>\n",
       "      <td>0.0</td>\n",
       "      <td>None</td>\n",
       "      <td>0.0</td>\n",
       "      <td>Добрый день! Я не являюсь клиентом банка и пор...</td>\n",
       "      <td>Жалоба</td>\n",
       "    </tr>\n",
       "    <tr>\n",
       "      <th>2</th>\n",
       "      <td>uhnov1</td>\n",
       "      <td>лицензия № 2562</td>\n",
       "      <td>Бинбанк</td>\n",
       "      <td>г. Москва</td>\n",
       "      <td>2015-06-08 12:50:54</td>\n",
       "      <td>0.0</td>\n",
       "      <td>None</td>\n",
       "      <td>0.0</td>\n",
       "      <td>Добрый день! Я не являюсь клиентом банка и пор...</td>\n",
       "      <td>Жалоба</td>\n",
       "    </tr>\n",
       "    <tr>\n",
       "      <th>3</th>\n",
       "      <td>uhnov1</td>\n",
       "      <td>лицензия № 2562</td>\n",
       "      <td>Бинбанк</td>\n",
       "      <td>г. Москва</td>\n",
       "      <td>2015-06-08 12:50:54</td>\n",
       "      <td>0.0</td>\n",
       "      <td>None</td>\n",
       "      <td>0.0</td>\n",
       "      <td>Добрый день! Я не являюсь клиентом банка и пор...</td>\n",
       "      <td>Жалоба</td>\n",
       "    </tr>\n",
       "    <tr>\n",
       "      <th>4</th>\n",
       "      <td>uhnov1</td>\n",
       "      <td>лицензия № 2562</td>\n",
       "      <td>Бинбанк</td>\n",
       "      <td>г. Москва</td>\n",
       "      <td>2015-06-08 12:50:54</td>\n",
       "      <td>0.0</td>\n",
       "      <td>None</td>\n",
       "      <td>0.0</td>\n",
       "      <td>Добрый день! Я не являюсь клиентом банка и пор...</td>\n",
       "      <td>Жалоба</td>\n",
       "    </tr>\n",
       "  </tbody>\n",
       "</table>\n",
       "</div>"
      ],
      "text/plain": [
       "   author     bank_license bank_name       city             datetime  \\\n",
       "0  uhnov1  лицензия № 2562   Бинбанк  г. Москва  2015-06-08 12:50:54   \n",
       "1  uhnov1  лицензия № 2562   Бинбанк  г. Москва  2015-06-08 12:50:54   \n",
       "2  uhnov1  лицензия № 2562   Бинбанк  г. Москва  2015-06-08 12:50:54   \n",
       "3  uhnov1  лицензия № 2562   Бинбанк  г. Москва  2015-06-08 12:50:54   \n",
       "4  uhnov1  лицензия № 2562   Бинбанк  г. Москва  2015-06-08 12:50:54   \n",
       "\n",
       "   num_comments rating_grade  rating_not_checked  \\\n",
       "0           0.0         None                 0.0   \n",
       "1           0.0         None                 0.0   \n",
       "2           0.0         None                 0.0   \n",
       "3           0.0         None                 0.0   \n",
       "4           0.0         None                 0.0   \n",
       "\n",
       "                                                text   title  \n",
       "0  Добрый день! Я не являюсь клиентом банка и пор...  Жалоба  \n",
       "1  Добрый день! Я не являюсь клиентом банка и пор...  Жалоба  \n",
       "2  Добрый день! Я не являюсь клиентом банка и пор...  Жалоба  \n",
       "3  Добрый день! Я не являюсь клиентом банка и пор...  Жалоба  \n",
       "4  Добрый день! Я не являюсь клиентом банка и пор...  Жалоба  "
      ]
     },
     "execution_count": 18,
     "metadata": {},
     "output_type": "execute_result"
    }
   ],
   "source": [
    "df.head()"
   ]
  },
  {
   "cell_type": "code",
   "execution_count": 57,
   "metadata": {
    "ExecuteTime": {
     "end_time": "2021-11-17T16:03:45.415282Z",
     "start_time": "2021-11-17T16:03:45.245282Z"
    }
   },
   "outputs": [],
   "source": [
    "df['city'] = df.city.astype('str').apply(lambda x: x.replace('г. ',''))"
   ]
  },
  {
   "cell_type": "code",
   "execution_count": 20,
   "metadata": {
    "ExecuteTime": {
     "end_time": "2021-11-17T14:43:23.026849Z",
     "start_time": "2021-11-17T14:43:22.956848Z"
    }
   },
   "outputs": [],
   "source": [
    "df.drop(columns=['rating_not_checked','num_comments','author','bank_license','title','datetime'],inplace=True)"
   ]
  },
  {
   "cell_type": "code",
   "execution_count": 59,
   "metadata": {
    "ExecuteTime": {
     "end_time": "2021-11-17T16:03:59.153302Z",
     "start_time": "2021-11-17T16:03:59.143302Z"
    }
   },
   "outputs": [],
   "source": [
    "df.columns = ['bank','city','rating','text']"
   ]
  },
  {
   "cell_type": "code",
   "execution_count": 60,
   "metadata": {
    "ExecuteTime": {
     "end_time": "2021-11-17T16:04:01.063305Z",
     "start_time": "2021-11-17T16:04:01.043305Z"
    }
   },
   "outputs": [
    {
     "data": {
      "text/html": [
       "<div>\n",
       "<style scoped>\n",
       "    .dataframe tbody tr th:only-of-type {\n",
       "        vertical-align: middle;\n",
       "    }\n",
       "\n",
       "    .dataframe tbody tr th {\n",
       "        vertical-align: top;\n",
       "    }\n",
       "\n",
       "    .dataframe thead th {\n",
       "        text-align: right;\n",
       "    }\n",
       "</style>\n",
       "<table border=\"1\" class=\"dataframe\">\n",
       "  <thead>\n",
       "    <tr style=\"text-align: right;\">\n",
       "      <th></th>\n",
       "      <th>bank</th>\n",
       "      <th>city</th>\n",
       "      <th>rating</th>\n",
       "      <th>text</th>\n",
       "    </tr>\n",
       "  </thead>\n",
       "  <tbody>\n",
       "    <tr>\n",
       "      <th>0</th>\n",
       "      <td>Бинбанк</td>\n",
       "      <td>Москва</td>\n",
       "      <td>None</td>\n",
       "      <td>Добрый день! Я не являюсь клиентом банка и пор...</td>\n",
       "    </tr>\n",
       "    <tr>\n",
       "      <th>1</th>\n",
       "      <td>Сбербанк России</td>\n",
       "      <td>Новосибирск</td>\n",
       "      <td>None</td>\n",
       "      <td>Доброго дня! Являюсь держателем зарплатной кар...</td>\n",
       "    </tr>\n",
       "    <tr>\n",
       "      <th>2</th>\n",
       "      <td>Бинбанк</td>\n",
       "      <td>Москва</td>\n",
       "      <td>None</td>\n",
       "      <td>Здравствуйте!  Дублирую свое заявление от 03.0...</td>\n",
       "    </tr>\n",
       "    <tr>\n",
       "      <th>3</th>\n",
       "      <td>Сбербанк России</td>\n",
       "      <td>Ставрополь</td>\n",
       "      <td>None</td>\n",
       "      <td>Добрый день!! Я открыл расчетный счет в СберБа...</td>\n",
       "    </tr>\n",
       "    <tr>\n",
       "      <th>4</th>\n",
       "      <td>ОТП Банк</td>\n",
       "      <td>Челябинск</td>\n",
       "      <td>None</td>\n",
       "      <td>04.03.2015 г. взяла кредит в вашем банке, заяв...</td>\n",
       "    </tr>\n",
       "  </tbody>\n",
       "</table>\n",
       "</div>"
      ],
      "text/plain": [
       "              bank         city rating  \\\n",
       "0          Бинбанк       Москва   None   \n",
       "1  Сбербанк России  Новосибирск   None   \n",
       "2          Бинбанк       Москва   None   \n",
       "3  Сбербанк России   Ставрополь   None   \n",
       "4         ОТП Банк    Челябинск   None   \n",
       "\n",
       "                                                text  \n",
       "0  Добрый день! Я не являюсь клиентом банка и пор...  \n",
       "1  Доброго дня! Являюсь держателем зарплатной кар...  \n",
       "2  Здравствуйте!  Дублирую свое заявление от 03.0...  \n",
       "3  Добрый день!! Я открыл расчетный счет в СберБа...  \n",
       "4  04.03.2015 г. взяла кредит в вашем банке, заяв...  "
      ]
     },
     "execution_count": 60,
     "metadata": {},
     "output_type": "execute_result"
    }
   ],
   "source": [
    "df.head()"
   ]
  },
  {
   "cell_type": "code",
   "execution_count": 66,
   "metadata": {
    "ExecuteTime": {
     "end_time": "2021-11-17T16:06:49.616542Z",
     "start_time": "2021-11-17T16:06:49.306542Z"
    }
   },
   "outputs": [
    {
     "data": {
      "image/png": "[encoded data removed]",
      "text/plain": [
       "<Figure size 432x288 with 1 Axes>"
      ]
     },
     "metadata": {
      "needs_background": "light"
     },
     "output_type": "display_data"
    }
   ],
   "source": [
    "plt.bar(range(1,6),df.rating.value_counts())\n",
    "plt.xlabel('Rating')\n",
    "plt.ylabel('Count')\n",
    "\n",
    "plt.title('Зависимость количества оценок от оценки');"
   ]
  },
  {
   "cell_type": "markdown",
   "metadata": {},
   "source": [
    "### Часть 1. Анализ текстов"
   ]
  },
  {
   "cell_type": "markdown",
   "metadata": {},
   "source": [
    "#### 1. Посчитайте количество отзывов в разных городах и на разные банки"
   ]
  },
  {
   "cell_type": "code",
   "execution_count": 68,
   "metadata": {
    "ExecuteTime": {
     "end_time": "2021-11-17T16:07:59.271641Z",
     "start_time": "2021-11-17T16:07:59.221641Z"
    },
    "scrolled": true
   },
   "outputs": [
    {
     "data": {
      "text/plain": [
       "Москва                55405\n",
       "nan                   15174\n",
       "Санкт-Петербург       14349\n",
       "Екатеринбург           2338\n",
       "Новосибирск            2301\n",
       "                      ...  \n",
       "ФИЛИАЛ г.ПЯТИГОРСК        1\n",
       "Москва-Махачкала          1\n",
       "Завьялово                 1\n",
       "Омутнинск                 1\n",
       "Давыдово                  1\n",
       "Name: city, Length: 5728, dtype: int64"
      ]
     },
     "execution_count": 68,
     "metadata": {},
     "output_type": "execute_result"
    }
   ],
   "source": [
    "df.city.value_counts()"
   ]
  },
  {
   "cell_type": "code",
   "execution_count": 73,
   "metadata": {
    "ExecuteTime": {
     "end_time": "2021-11-17T16:11:27.192934Z",
     "start_time": "2021-11-17T16:11:26.722934Z"
    },
    "scrolled": true
   },
   "outputs": [
    {
     "data": {
      "image/png": "[encoded data removed]",
      "text/plain": [
       "<Figure size 1224x360 with 1 Axes>"
      ]
     },
     "metadata": {
      "needs_background": "light"
     },
     "output_type": "display_data"
    }
   ],
   "source": [
    "plt.figure(figsize=(17,5))\n",
    "plt.bar(df.city.value_counts().index[:10],df.city.value_counts()[:10])\n",
    "plt.xlabel('City')\n",
    "plt.ylabel('Count')\n",
    "\n",
    "plt.title('Зависимость количества оценок от города');"
   ]
  },
  {
   "cell_type": "code",
   "execution_count": 74,
   "metadata": {
    "ExecuteTime": {
     "end_time": "2021-11-17T16:12:34.204029Z",
     "start_time": "2021-11-17T16:12:34.134029Z"
    },
    "scrolled": true
   },
   "outputs": [
    {
     "data": {
      "text/plain": [
       "Сбербанк России     26327\n",
       "Альфа-Банк          10224\n",
       "ВТБ 24               8185\n",
       "Русский Стандарт     7943\n",
       "Хоум Кредит Банк     7549\n",
       "                    ...  \n",
       "Волгопромбанк           1\n",
       "Рублевский              1\n",
       "Красбанк                1\n",
       "Индустриальный          1\n",
       "БСТ-Банк                1\n",
       "Name: bank, Length: 670, dtype: int64"
      ]
     },
     "execution_count": 74,
     "metadata": {},
     "output_type": "execute_result"
    }
   ],
   "source": [
    "df.bank.value_counts()"
   ]
  },
  {
   "cell_type": "code",
   "execution_count": 76,
   "metadata": {
    "ExecuteTime": {
     "end_time": "2021-11-17T16:13:23.724099Z",
     "start_time": "2021-11-17T16:13:23.314098Z"
    }
   },
   "outputs": [
    {
     "data": {
      "image/png": "[encoded data removed]",
      "text/plain": [
       "<Figure size 1224x360 with 1 Axes>"
      ]
     },
     "metadata": {
      "needs_background": "light"
     },
     "output_type": "display_data"
    }
   ],
   "source": [
    "plt.figure(figsize=(17,5))\n",
    "plt.bar(df.bank.value_counts().index[:7],df.city.value_counts()[:7])\n",
    "plt.xlabel('Bank')\n",
    "plt.ylabel('Count')\n",
    "\n",
    "plt.title('Зависимость количества оценок от названия банка');"
   ]
  },
  {
   "cell_type": "code",
   "execution_count": 110,
   "metadata": {
    "ExecuteTime": {
     "end_time": "2021-11-17T16:26:59.405249Z",
     "start_time": "2021-11-17T16:26:59.295249Z"
    }
   },
   "outputs": [
    {
     "data": {
      "text/plain": [
       "bank           rating\n",
       "2Т Банк        1         203\n",
       "               2          78\n",
       "               3          51\n",
       "               5          26\n",
       "               4          23\n",
       "                        ... \n",
       "Яндекс.Деньги  2          15\n",
       "               3           2\n",
       "Ярославич      5           3\n",
       "Ярсоцбанк      5           3\n",
       "               3           1\n",
       "Name: rating, Length: 1851, dtype: int64"
      ]
     },
     "execution_count": 110,
     "metadata": {},
     "output_type": "execute_result"
    }
   ],
   "source": [
    "df.groupby(by='bank').rating.value_counts()"
   ]
  },
  {
   "cell_type": "code",
   "execution_count": 112,
   "metadata": {
    "ExecuteTime": {
     "end_time": "2021-11-17T16:27:08.748263Z",
     "start_time": "2021-11-17T16:27:08.588262Z"
    }
   },
   "outputs": [
    {
     "data": {
      "text/plain": [
       "bank           city                rating\n",
       "2Т Банк        Moscow              3         1\n",
       "               Mscow               5         1\n",
       "               Белгород (Москва)   1         1\n",
       "               Бугульма            1         1\n",
       "               Волгодонск          1         1\n",
       "                                            ..\n",
       "Яндекс.Деньги  Ярославль (Москва)  1         1\n",
       "Ярославич      Москва              5         2\n",
       "               Ярославль           5         1\n",
       "Ярсоцбанк      nan                 5         3\n",
       "                                   3         1\n",
       "Name: rating, Length: 19115, dtype: int64"
      ]
     },
     "execution_count": 112,
     "metadata": {},
     "output_type": "execute_result"
    }
   ],
   "source": [
    "df.groupby(by=['bank','city']).rating.value_counts()"
   ]
  },
  {
   "cell_type": "markdown",
   "metadata": {},
   "source": [
    "#### 2. Постройте гистограмы длин слов в символах и в словах\n",
    "Я так понял это опечатка : гистограммы длин __отзывов__  в символах и в словах"
   ]
  },
  {
   "cell_type": "code",
   "execution_count": 113,
   "metadata": {
    "ExecuteTime": {
     "end_time": "2021-11-17T16:27:36.357303Z",
     "start_time": "2021-11-17T16:27:31.486296Z"
    }
   },
   "outputs": [],
   "source": [
    "df['text_length_in_symbols'] = df.text.apply(lambda x: len(x) )\n",
    "df['text_length_in_words']  = df.text.apply(lambda x: len(x.split()) )"
   ]
  },
  {
   "cell_type": "code",
   "execution_count": 122,
   "metadata": {
    "ExecuteTime": {
     "end_time": "2021-11-17T16:28:34.239385Z",
     "start_time": "2021-11-17T16:28:33.139383Z"
    }
   },
   "outputs": [
    {
     "data": {
      "image/png": "[encoded data removed]",
      "text/plain": [
       "<Figure size 1080x360 with 2 Axes>"
      ]
     },
     "metadata": {
      "needs_background": "light"
     },
     "output_type": "display_data"
    }
   ],
   "source": [
    "fig = plt.figure(figsize=(15,5))\n",
    "fig.suptitle('Сравнительный анализ отзывов по длине отзыва', fontsize=20)\n",
    "\n",
    "fig.add_subplot(121)\n",
    "plt.hist(df['text_length_in_symbols'],bins=80)\n",
    "plt.ylabel('количество символов')\n",
    "plt.grid()\n",
    "plt.xlabel('количество отзывов')\n",
    "plt.title('в символах');\n",
    "\n",
    "\n",
    "fig.add_subplot(122)\n",
    "plt.hist(df['text_length_in_words'],bins=80)\n",
    "plt.ylabel('количество слов')\n",
    "plt.grid()\n",
    "plt.xlabel('количество отзывов')\n",
    "plt.title('в словах');\n",
    "\n",
    "fig.savefig('./preprocessed/feedback_length_comparison')"
   ]
  },
  {
   "cell_type": "markdown",
   "metadata": {},
   "source": [
    "#### 3. Найдите 10 самых частых:\n",
    "- слов\n",
    "- слов без стоп-слов\n",
    "- лемм\n",
    "- существительных"
   ]
  },
  {
   "cell_type": "code",
   "execution_count": 169,
   "metadata": {
    "ExecuteTime": {
     "end_time": "2021-11-18T07:12:24.567839Z",
     "start_time": "2021-11-18T07:12:24.547839Z"
    }
   },
   "outputs": [],
   "source": [
    "rus_stopwords = stopwords.words('russian')\n",
    "rus_word = re.compile('[А-Яа-я]{3,}')\n",
    "    \n",
    "def words_only(text): \n",
    "    return \" \".join([i.lower() for i in rus_word.findall(text)])\n",
    "\n",
    "def lemmatize(text):\n",
    "    try:\n",
    "        return \" \".join([ma.parse(i)[0].normal_form for i in rus_word.findall(text) ])  \n",
    "    except:\n",
    "        return \" \"\n",
    "    \n",
    "def lemmatize_noun(text ):\n",
    "    try:\n",
    "        return [ma.parse(i)[0].normal_form for i in text if {'NOUN'} in ma.parse(i)[0].tag  ]  \n",
    "    except:\n",
    "        return \" \"\n",
    "\n",
    "def remove_stopwords(text, mystopwords = rus_stopwords):\n",
    "    try:\n",
    "        return \" \".join([i for i in text.split() if i not in mystopwords])\n",
    "    except:\n",
    "        return [i for i in text if i not in mystopwords]\n",
    "    \n",
    "def preprocess(text):\n",
    "    return remove_stopwords(lemmatize(words_only(text)))"
   ]
  },
  {
   "cell_type": "code",
   "execution_count": 126,
   "metadata": {
    "ExecuteTime": {
     "end_time": "2021-11-17T18:31:40.024974Z",
     "start_time": "2021-11-17T16:29:17.238445Z"
    }
   },
   "outputs": [],
   "source": [
    "df['text_processed'] = df.text.astype('str').apply(preprocess)"
   ]
  },
  {
   "cell_type": "code",
   "execution_count": 127,
   "metadata": {
    "ExecuteTime": {
     "end_time": "2021-11-17T18:31:42.198979Z",
     "start_time": "2021-11-17T18:31:40.034974Z"
    }
   },
   "outputs": [],
   "source": [
    "df.drop(columns=['text_length_in_words','text_length_in_symbols'], inplace = True)\n",
    "\n",
    "# save processed(final) dataframe\n",
    "with open('./processed/df.pickle' , 'wb') as f:\n",
    "    pickle.dump(df,f)\n",
    "f.close() \n"
   ]
  },
  {
   "cell_type": "code",
   "execution_count": 165,
   "metadata": {
    "ExecuteTime": {
     "end_time": "2021-11-18T07:08:38.379519Z",
     "start_time": "2021-11-18T07:08:32.758511Z"
    }
   },
   "outputs": [
    {
     "name": "stdout",
     "output_type": "stream",
     "text": [
      "Top 10 the most common words: [('что', 640057), ('мне', 320958), ('банка', 275906), ('банк', 215426), ('как', 205680), ('меня', 187279), ('это', 183365), ('все', 171094), ('так', 147950), ('деньги', 131201)]\n"
     ]
    }
   ],
   "source": [
    "# all words\n",
    "a=[]\n",
    "for i in tqdm(df.text):\n",
    "    a+=words_only(i).split()\n",
    "\n",
    "word_frequency = Counter(a )\n",
    "print('Top 10 the most common words:', word_frequency.most_common(10) )"
   ]
  },
  {
   "cell_type": "code",
   "execution_count": 182,
   "metadata": {
    "ExecuteTime": {
     "end_time": "2021-11-18T08:00:38.239026Z",
     "start_time": "2021-11-18T08:00:37.819025Z"
    }
   },
   "outputs": [
    {
     "data": {
      "image/png": "[encoded data removed]",
      "text/plain": [
       "<Figure size 1224x360 with 1 Axes>"
      ]
     },
     "metadata": {
      "needs_background": "light"
     },
     "output_type": "display_data"
    }
   ],
   "source": [
    "d = word_frequency.most_common(10)  \n",
    "\n",
    "plt.figure(figsize=(17,5))\n",
    "plt.bar(d.keys(),d.values())\n",
    "plt.xlabel('Word')\n",
    "plt.ylabel('Count')\n",
    "\n",
    "plt.title('Топ 10 самых упоминаемых слов в отзывах');"
   ]
  },
  {
   "cell_type": "code",
   "execution_count": 166,
   "metadata": {
    "ExecuteTime": {
     "end_time": "2021-11-18T07:09:42.433610Z",
     "start_time": "2021-11-18T07:09:37.861603Z"
    }
   },
   "outputs": [
    {
     "name": "stdout",
     "output_type": "stream",
     "text": [
      "Top 10 the most common words (without stopwords): [('банка', 275906), ('банк', 215426), ('это', 183365), ('деньги', 131201), ('карту', 105829), ('карты', 101821), ('кредит', 81136), ('день', 76552), ('банке', 72169), ('заявление', 70423)]\n"
     ]
    }
   ],
   "source": [
    "# all words without stopwords\n",
    "a_wo_stop_words = remove_stopwords(a)\n",
    "word_frequency = Counter(a_wo_stop_words )\n",
    "print('Top 10 the most common words (without stopwords):', word_frequency.most_common(10) )"
   ]
  },
  {
   "cell_type": "code",
   "execution_count": 184,
   "metadata": {
    "ExecuteTime": {
     "end_time": "2021-11-18T08:03:53.076301Z",
     "start_time": "2021-11-18T08:03:52.636300Z"
    }
   },
   "outputs": [
    {
     "data": {
      "image/png": "[encoded data removed]",
      "text/plain": [
       "<Figure size 1224x360 with 1 Axes>"
      ]
     },
     "metadata": {
      "needs_background": "light"
     },
     "output_type": "display_data"
    }
   ],
   "source": [
    "d = word_frequency.most_common(10)\n",
    "    \n",
    "plt.figure(figsize=(17,5))\n",
    "plt.bar(d.keys(),d.values())\n",
    "plt.xlabel('Word')\n",
    "plt.ylabel('Count')\n",
    "\n",
    "plt.title('Топ 10 самых упоминаемых слов(без стоп-слов) в отзывах');"
   ]
  },
  {
   "cell_type": "code",
   "execution_count": 167,
   "metadata": {
    "ExecuteTime": {
     "end_time": "2021-11-18T07:10:30.994678Z",
     "start_time": "2021-11-18T07:10:27.133673Z"
    }
   },
   "outputs": [
    {
     "name": "stdout",
     "output_type": "stream",
     "text": [
      "Top 10 the most common lemms: [('банк', 668563), ('карта', 334999), ('это', 308689), ('деньга', 179819), ('день', 173116), ('кредит', 156177), ('который', 149017), ('отделение', 144050), ('клиент', 136892), ('сотрудник', 134168)]\n"
     ]
    }
   ],
   "source": [
    "# all lemms\n",
    "b=[]\n",
    "for i in tqdm(df.text_processed):\n",
    "    b+=words_only(i).split()\n",
    "    \n",
    "word_frequency = Counter(b)\n",
    "print('Top 10 the most common lemms:', word_frequency.most_common(10) )"
   ]
  },
  {
   "cell_type": "code",
   "execution_count": 186,
   "metadata": {
    "ExecuteTime": {
     "end_time": "2021-11-18T08:03:53.076301Z",
     "start_time": "2021-11-18T08:03:52.636300Z"
    }
   },
   "outputs": [
    {
     "data": {
      "image/png": "[encoded data removed]",
      "text/plain": [
       "<Figure size 1224x360 with 1 Axes>"
      ]
     },
     "metadata": {
      "needs_background": "light"
     },
     "output_type": "display_data"
    }
   ],
   "source": [
    "d = word_frequency.most_common(10)\n",
    "    \n",
    "plt.figure(figsize=(17,5))\n",
    "plt.bar(d.keys(),d.values())\n",
    "plt.xlabel('Word')\n",
    "plt.ylabel('Count')\n",
    "\n",
    "plt.title('Топ 10 самых упоминаемых лемм в отзывах');"
   ]
  },
  {
   "cell_type": "code",
   "execution_count": 178,
   "metadata": {
    "ExecuteTime": {
     "end_time": "2021-11-18T07:58:48.078870Z",
     "start_time": "2021-11-18T07:58:08.836814Z"
    }
   },
   "outputs": [
    {
     "name": "stdout",
     "output_type": "stream",
     "text": [
      "Top 10 the most common nouns: [('банк', 3532), ('карта', 1540), ('кредит', 847), ('вклад', 757), ('деньга', 734), ('день', 701), ('клиент', 686), ('сотрудник', 610), ('сумма', 602), ('год', 592)]\n"
     ]
    }
   ],
   "source": [
    "# all Nouns\n",
    "word_frequency = Counter(lemmatize_noun(b) )\n",
    "print('Top 10 the most common nouns:', word_frequency.most_common(10) )"
   ]
  },
  {
   "cell_type": "code",
   "execution_count": 189,
   "metadata": {
    "ExecuteTime": {
     "end_time": "2021-11-18T08:03:53.076301Z",
     "start_time": "2021-11-18T08:03:52.636300Z"
    }
   },
   "outputs": [
    {
     "data": {
      "image/png": "[encoded data removed]",
      "text/plain": [
       "<Figure size 1224x360 with 1 Axes>"
      ]
     },
     "metadata": {
      "needs_background": "light"
     },
     "output_type": "display_data"
    }
   ],
   "source": [
    "d = word_frequency.most_common(10)\n",
    "    \n",
    "plt.figure(figsize=(17,5))\n",
    "plt.bar(d.keys(),d.values())\n",
    "plt.xlabel('Word')\n",
    "plt.ylabel('Count')\n",
    "\n",
    "plt.title('Топ 10 самых упоминаемых существительных в отзывах');"
   ]
  },
  {
   "cell_type": "code",
   "execution_count": 160,
   "metadata": {
    "ExecuteTime": {
     "end_time": "2021-11-18T07:02:38.920012Z",
     "start_time": "2021-11-18T07:01:42.969928Z"
    }
   },
   "outputs": [],
   "source": [
    "with open('./processed/all_text.pickle' , 'wb') as f:\n",
    "    pickle.dump(a,f)\n",
    "f.close() \n",
    "\n",
    "with open('./processed/all_prepared_text.pickle' , 'wb') as f:\n",
    "    pickle.dump(b,f)\n",
    "f.close() \n"
   ]
  },
  {
   "cell_type": "markdown",
   "metadata": {},
   "source": [
    "#### 4. Постройте кривые Ципфа и Хипса"
   ]
  },
  {
   "cell_type": "code",
   "execution_count": 173,
   "metadata": {
    "ExecuteTime": {
     "end_time": "2021-11-18T07:56:08.940644Z",
     "start_time": "2021-11-18T07:56:03.755634Z"
    }
   },
   "outputs": [
    {
     "data": {
      "image/png": "[encoded data removed]",
      "text/plain": [
       "<Figure size 432x288 with 1 Axes>"
      ]
     },
     "metadata": {
      "needs_background": "light"
     },
     "output_type": "display_data"
    }
   ],
   "source": [
    "# Кривая Ципфа\n",
    "word_frequency = Counter(b)\n",
    "frequencies = list(word_frequency.values())\n",
    "frequencies = sorted(frequencies, reverse = True)\n",
    "\n",
    "plt.plot(frequencies[:1000],range(1000))\n",
    "plt.ylabel('Частота слова')\n",
    "plt.xlabel('Количество слов')\n",
    "\n",
    "plt.title('Кривая Ципфа \\n зависимость частоты слова от количества слов');"
   ]
  },
  {
   "cell_type": "code",
   "execution_count": 22,
   "metadata": {
    "ExecuteTime": {
     "end_time": "2021-11-18T10:28:08.050682Z",
     "start_time": "2021-11-18T10:08:07.179978Z"
    }
   },
   "outputs": [
    {
     "name": "stderr",
     "output_type": "stream",
     "text": [
      "100%|█████████████████████████████████| 153499/153499 [20:00<00:00, 127.83it/s]\n"
     ]
    }
   ],
   "source": [
    "#Кривая Хипса\n",
    "cnt = Counter()\n",
    "n_words = []\n",
    "n_tokens = []\n",
    "tokens = []\n",
    "\n",
    "for index, row in tqdm(df.iterrows(),total=len(df)):\n",
    "    \n",
    "    cnt.update(row.text_processed.split())\n",
    "    n_words.append(len(cnt))\n",
    "    n_tokens.append(sum(list(cnt.values())))\n",
    "    "
   ]
  },
  {
   "cell_type": "code",
   "execution_count": 23,
   "metadata": {
    "ExecuteTime": {
     "end_time": "2021-11-18T10:28:08.592684Z",
     "start_time": "2021-11-18T10:28:08.050682Z"
    }
   },
   "outputs": [
    {
     "data": {
      "image/png": "[encoded data removed]",
      "text/plain": [
       "<Figure size 432x288 with 1 Axes>"
      ]
     },
     "metadata": {
      "needs_background": "light"
     },
     "output_type": "display_data"
    }
   ],
   "source": [
    "plt.plot(n_tokens,n_words  )\n",
    "plt.ylabel('Количество новых слов')\n",
    "plt.xlabel('Общее количество слов')\n",
    "plt.grid()\n",
    "plt.title('Кривая Хипса \\n зависимость количества новых слов от прибавления новых текстов');"
   ]
  },
  {
   "cell_type": "markdown",
   "metadata": {},
   "source": [
    "#### 5. Ответьте на следующие вопросы:\n",
    "- какое слово встречается чаще, \"сотрудник\" или \"клиент\"?\n",
    "- сколько раз встречается слова \"мошенничество\" и \"доверие\"?"
   ]
  },
  {
   "cell_type": "code",
   "execution_count": 38,
   "metadata": {
    "ExecuteTime": {
     "end_time": "2021-11-18T09:03:32.879425Z",
     "start_time": "2021-11-18T09:03:24.533413Z"
    }
   },
   "outputs": [],
   "source": [
    "with open('./processed/all_prepared_text.pickle' , 'rb') as f:\n",
    "    all_prepared_text = pickle.load(f)\n",
    "f.close()"
   ]
  },
  {
   "cell_type": "code",
   "execution_count": 41,
   "metadata": {
    "ExecuteTime": {
     "end_time": "2021-11-18T09:03:52.113453Z",
     "start_time": "2021-11-18T09:03:48.892449Z"
    }
   },
   "outputs": [
    {
     "name": "stdout",
     "output_type": "stream",
     "text": [
      "слово \"клиент\" (136892) встречается чаще, чем слово \"сотрудник\" (134168)\n"
     ]
    }
   ],
   "source": [
    "word_frequency = Counter(all_prepared_text)\n",
    "staff_freq = word_frequency['сотрудник']\n",
    "client_freq = word_frequency['клиент']\n",
    "if staff_freq > client_freq: \n",
    "    print(f'слово \"сотрудник\" ({staff_freq}) встречается чаще, чем слово \"клиент\" ({client_freq})')\n",
    "else: \n",
    "    print(f'слово \"клиент\" ({client_freq}) встречается чаще, чем слово \"сотрудник\" ({staff_freq})')"
   ]
  },
  {
   "cell_type": "code",
   "execution_count": 40,
   "metadata": {
    "ExecuteTime": {
     "end_time": "2021-11-18T09:03:38.881435Z",
     "start_time": "2021-11-18T09:03:38.861435Z"
    }
   },
   "outputs": [
    {
     "name": "stdout",
     "output_type": "stream",
     "text": [
      "Cлово \"мошенничество\" встречается 3244 раз \n",
      " Cлово \"доверие\" встречается 2108 раз \n"
     ]
    }
   ],
   "source": [
    "cheat_freq = word_frequency['мошенничество']\n",
    "trust_freq = word_frequency['доверие']\n",
    "print(f'Cлово \"мошенничество\" встречается {cheat_freq} раз \\n Cлово \"доверие\" встречается {trust_freq} раз ')"
   ]
  },
  {
   "cell_type": "markdown",
   "metadata": {},
   "source": [
    "#### 6. В поле \"rating_grade\" записана оценка отзыва по шкале от 1 до 5. \n",
    "Используйте меру $tf-idf$, для того, чтобы найти ключевые слова и биграмы для положительных отзывов (с оценкой 5) и отрицательных отзывов (с оценкой 1)"
   ]
  },
  {
   "cell_type": "code",
   "execution_count": 9,
   "metadata": {
    "ExecuteTime": {
     "end_time": "2021-11-18T09:11:21.438090Z",
     "start_time": "2021-11-18T09:11:21.428090Z"
    }
   },
   "outputs": [],
   "source": [
    "from sklearn.feature_extraction.text import TfidfVectorizer"
   ]
  },
  {
   "cell_type": "code",
   "execution_count": 13,
   "metadata": {
    "ExecuteTime": {
     "end_time": "2021-11-18T09:12:20.207173Z",
     "start_time": "2021-11-18T09:12:09.587158Z"
    }
   },
   "outputs": [],
   "source": [
    "vec = TfidfVectorizer(ngram_range=(1,2))\n",
    "bow = vec.fit_transform(df.loc[df.rating==5,'text_processed'])"
   ]
  },
  {
   "cell_type": "code",
   "execution_count": 73,
   "metadata": {
    "ExecuteTime": {
     "end_time": "2021-11-18T09:42:54.835770Z",
     "start_time": "2021-11-18T09:42:54.795770Z"
    }
   },
   "outputs": [
    {
     "data": {
      "text/plain": [
       "(851082, 851082)"
      ]
     },
     "execution_count": 73,
     "metadata": {},
     "output_type": "execute_result"
    }
   ],
   "source": [
    "len(vec.idf_), len(vec.vocabulary_)"
   ]
  },
  {
   "cell_type": "markdown",
   "metadata": {
    "ExecuteTime": {
     "end_time": "2021-11-18T09:39:46.791505Z",
     "start_time": "2021-11-18T09:39:46.771505Z"
    }
   },
   "source": [
    "Если метрика idf и словарь совпадают, то это не совпадение.  \n",
    "\n",
    "Отсортируем и получим самые высокие значения idf - это будут  самые значимые - ключевые слова для выборки"
   ]
  },
  {
   "cell_type": "code",
   "execution_count": 47,
   "metadata": {
    "ExecuteTime": {
     "end_time": "2021-11-18T09:29:17.778615Z",
     "start_time": "2021-11-18T09:29:17.688615Z"
    },
    "scrolled": true
   },
   "outputs": [
    {
     "data": {
      "text/plain": [
       "array([1.08833443, 1.38421633, 1.42235978, ..., 9.90340752, 9.90340752,\n",
       "       9.90340752])"
      ]
     },
     "execution_count": 47,
     "metadata": {},
     "output_type": "execute_result"
    }
   ],
   "source": [
    "vec.idf_[vec.idf_.argsort()]"
   ]
  },
  {
   "cell_type": "code",
   "execution_count": 64,
   "metadata": {
    "ExecuteTime": {
     "end_time": "2021-11-18T09:34:41.399072Z",
     "start_time": "2021-11-18T09:34:35.059063Z"
    }
   },
   "outputs": [],
   "source": [
    "a = np.array(list(zip(list(vec.vocabulary_.keys()),vec.idf_)) )"
   ]
  },
  {
   "cell_type": "code",
   "execution_count": 72,
   "metadata": {
    "ExecuteTime": {
     "end_time": "2021-11-18T09:41:58.024690Z",
     "start_time": "2021-11-18T09:41:56.004687Z"
    }
   },
   "outputs": [
    {
     "name": "stdout",
     "output_type": "stream",
     "text": [
      "Ключевые слова и биграмы для положительных отзывов (с оценкой 5): \n"
     ]
    },
    {
     "data": {
      "text/plain": [
       "array([['пригласительный карта', '9.903407519932264'],\n",
       "       ['акция уговорить', '9.903407519932264'],\n",
       "       ['уговорить мама', '9.903407519932264'],\n",
       "       ['мама брат', '9.903407519932264'],\n",
       "       ['брат следующий', '9.903407519932264'],\n",
       "       ['приехать межтраст', '9.903407519932264'],\n",
       "       ['межтраст открыть', '9.903407519932264'],\n",
       "       ['приехать мама', '9.903407519932264'],\n",
       "       ['карта участие', '9.903407519932264'],\n",
       "       ['дистанционно ещё', '9.903407519932264']], dtype='<U118')"
      ]
     },
     "execution_count": 72,
     "metadata": {},
     "output_type": "execute_result"
    }
   ],
   "source": [
    "print('Ключевые слова и биграмы для положительных отзывов (с оценкой 5): ' )\n",
    "a[vec.idf_.argsort()][-10:]"
   ]
  },
  {
   "cell_type": "code",
   "execution_count": 74,
   "metadata": {
    "ExecuteTime": {
     "end_time": "2021-11-18T09:46:40.692090Z",
     "start_time": "2021-11-18T09:45:19.833975Z"
    }
   },
   "outputs": [
    {
     "name": "stdout",
     "output_type": "stream",
     "text": [
      "Ключевые слова и биграмы для отрицательных отзывов (с оценкой 1): \n"
     ]
    },
    {
     "data": {
      "text/plain": [
       "array([['средство двор', '11.072977130514705'],\n",
       "       ['находиться тыс', '11.072977130514705'],\n",
       "       ['санкция почему', '11.072977130514705'],\n",
       "       ['связать санкция', '11.072977130514705'],\n",
       "       ['гагаринский ленинский', '11.072977130514705'],\n",
       "       ['офис смп', '11.072977130514705'],\n",
       "       ['сша офис', '11.072977130514705'],\n",
       "       ['центробанк обязать', '11.072977130514705'],\n",
       "       ['наплевать федеральный', '11.072977130514705'],\n",
       "       ['обращаться остаться', '11.072977130514705']], dtype='<U85')"
      ]
     },
     "execution_count": 74,
     "metadata": {},
     "output_type": "execute_result"
    }
   ],
   "source": [
    "vec = TfidfVectorizer(ngram_range=(1,2))\n",
    "bow = vec.fit_transform(df.loc[df.rating==1,'text_processed'])\n",
    "\n",
    "a = np.array(list(zip(list(vec.vocabulary_.keys()),vec.idf_)) )\n",
    "\n",
    "print('Ключевые слова и биграмы для отрицательных отзывов (с оценкой 1): ' )\n",
    "a[vec.idf_.argsort()][-10:]"
   ]
  },
  {
   "cell_type": "markdown",
   "metadata": {},
   "source": [
    "### Часть 2. Тематическое моделирование\n",
    "\n",
    "#### 1. Постройте несколько тематических моделей коллекции документов с разным числом тем. Приведите примеры понятных (интерпретируемых) тем."
   ]
  },
  {
   "cell_type": "code",
   "execution_count": 10,
   "metadata": {
    "ExecuteTime": {
     "end_time": "2021-11-18T09:50:37.344428Z",
     "start_time": "2021-11-18T09:50:37.304428Z"
    }
   },
   "outputs": [
    {
     "data": {
      "text/plain": [
       "['Сбербанк России',\n",
       " 'Альфа-Банк',\n",
       " 'ВТБ 24',\n",
       " 'Русский Стандарт',\n",
       " 'Хоум Кредит Банк']"
      ]
     },
     "execution_count": 10,
     "metadata": {},
     "output_type": "execute_result"
    }
   ],
   "source": [
    "top_banks = list(df.bank.value_counts()[:5].index)\n",
    "top_banks"
   ]
  },
  {
   "cell_type": "code",
   "execution_count": 12,
   "metadata": {
    "ExecuteTime": {
     "end_time": "2021-11-18T09:50:43.857438Z",
     "start_time": "2021-11-18T09:50:43.837438Z"
    }
   },
   "outputs": [],
   "source": [
    "from gensim.corpora import Dictionary\n",
    "from gensim.models import TfidfModel\n",
    "from gensim import similarities\n",
    "\n",
    "from gensim.models import lsimodel"
   ]
  },
  {
   "cell_type": "code",
   "execution_count": 19,
   "metadata": {
    "ExecuteTime": {
     "end_time": "2021-11-18T09:56:45.877951Z",
     "start_time": "2021-11-18T09:56:20.610914Z"
    }
   },
   "outputs": [],
   "source": [
    "a = [i.split() for i in df.text_processed]\n",
    "dictionary = Dictionary(a)\n",
    "corpus = [dictionary.doc2bow(i) for i in a]\n",
    "tfidf = TfidfModel(corpus)\n",
    "corpus_tfidf = tfidf[corpus]"
   ]
  },
  {
   "cell_type": "code",
   "execution_count": 20,
   "metadata": {
    "ExecuteTime": {
     "end_time": "2021-11-18T10:06:39.941854Z",
     "start_time": "2021-11-18T09:57:53.902047Z"
    }
   },
   "outputs": [
    {
     "name": "stdout",
     "output_type": "stream",
     "text": [
      "[(0, '0.197*\"карта\" + 0.135*\"кредит\" + 0.116*\"деньга\" + 0.110*\"заявление\" + 0.108*\"счёт\" + 0.102*\"вклад\" + 0.101*\"отделение\" + 0.101*\"банкомат\" + 0.097*\"сбербанк\" + 0.097*\"сумма\"'), (1, '-0.462*\"вклад\" + 0.342*\"кредит\" + 0.173*\"страховка\" + 0.147*\"платёж\" + 0.144*\"задолженность\" + -0.142*\"банкомат\" + 0.137*\"погашение\" + -0.135*\"карта\" + -0.123*\"очередь\" + -0.117*\"открыть\"')]\n",
      "[(0, '0.197*\"карта\" + 0.135*\"кредит\" + 0.116*\"деньга\" + 0.110*\"заявление\" + 0.108*\"счёт\" + 0.102*\"банкомат\" + 0.101*\"вклад\" + 0.101*\"отделение\" + 0.097*\"сбербанк\" + 0.097*\"сумма\"'), (1, '0.365*\"кредит\" + -0.364*\"вклад\" + -0.226*\"банкомат\" + -0.179*\"карта\" + 0.172*\"страховка\" + 0.146*\"задолженность\" + 0.146*\"платёж\" + 0.142*\"погашение\" + -0.127*\"деньга\" + 0.116*\"звонок\"')]\n",
      "[(0, '0.197*\"карта\" + 0.135*\"кредит\" + 0.116*\"деньга\" + 0.110*\"заявление\" + 0.108*\"счёт\" + 0.102*\"банкомат\" + 0.102*\"вклад\" + 0.101*\"отделение\" + 0.097*\"сбербанк\" + 0.097*\"сумма\"'), (1, '-0.371*\"кредит\" + 0.339*\"вклад\" + 0.240*\"банкомат\" + 0.190*\"карта\" + -0.173*\"страховка\" + -0.143*\"задолженность\" + -0.140*\"платёж\" + -0.140*\"погашение\" + 0.131*\"деньга\" + -0.117*\"звонок\"')]\n"
     ]
    }
   ],
   "source": [
    "for i in [5,15,35]:\n",
    "    lsi = lsimodel.LsiModel(corpus=corpus_tfidf, id2word=dictionary, num_topics=i)\n",
    "    print(lsi.show_topics(2) )"
   ]
  },
  {
   "cell_type": "markdown",
   "metadata": {},
   "source": [
    "#### 2. Найдите темы, в которых упомянуты конкретные банки (Сбербанк, ВТБ, другой банк). Можете ли вы их прокомментировать / объяснить?\n",
    "Эта часть задания может быть сделана с использованием gensim."
   ]
  },
  {
   "cell_type": "code",
   "execution_count": 21,
   "metadata": {
    "ExecuteTime": {
     "end_time": "2021-11-18T10:08:07.179978Z",
     "start_time": "2021-11-18T10:06:39.941854Z"
    }
   },
   "outputs": [
    {
     "name": "stderr",
     "output_type": "stream",
     "text": [
      " 20%|████████▊                                   | 1/5 [00:38<02:33, 38.32s/it]"
     ]
    },
    {
     "name": "stdout",
     "output_type": "stream",
     "text": [
      "[(0, '0.179*\"карта\" + 0.126*\"заявление\" + 0.123*\"деньга\" + 0.118*\"банкомат\" + 0.110*\"счёт\" + 0.109*\"кредит\" + 0.098*\"номер\" + 0.095*\"средство\" + 0.093*\"сумма\" + 0.092*\"операция\"'), (1, '0.371*\"кредит\" + -0.317*\"банкомат\" + -0.159*\"чек\" + -0.159*\"операция\" + 0.158*\"кредитный\" + -0.150*\"деньга\" + -0.147*\"терминал\" + 0.144*\"договор\" + 0.143*\"страховка\" + 0.127*\"документ\"'), (2, '0.331*\"кредит\" + -0.204*\"карта\" + -0.191*\"мобильный\" + 0.159*\"сумма\" + 0.154*\"погашение\" + 0.151*\"банкомат\" + -0.142*\"подключить\" + 0.141*\"платёж\" + 0.128*\"чек\" + -0.119*\"услуга\"')]\n"
     ]
    },
    {
     "name": "stderr",
     "output_type": "stream",
     "text": [
      "\r",
      " 40%|█████████████████▌                          | 2/5 [00:53<01:34, 31.52s/it]"
     ]
    },
    {
     "name": "stdout",
     "output_type": "stream",
     "text": [
      "[(0, '0.165*\"карта\" + 0.150*\"кредит\" + 0.137*\"банкомат\" + 0.129*\"претензия\" + 0.119*\"счёт\" + 0.115*\"деньга\" + 0.097*\"сумма\" + 0.093*\"отделение\" + 0.093*\"номер\" + 0.091*\"кредитный\"'), (1, '-0.376*\"банкомат\" + 0.259*\"звонок\" + 0.189*\"кредит\" + 0.186*\"номер\" + -0.184*\"деньга\" + 0.148*\"звонить\" + -0.141*\"купюра\" + 0.139*\"телефон\" + 0.137*\"ваш\" + -0.137*\"карта\"'), (2, '-0.314*\"банкомат\" + 0.281*\"страховка\" + 0.227*\"кредит\" + -0.217*\"номер\" + -0.207*\"звонок\" + 0.183*\"страхование\" + 0.170*\"договор\" + -0.133*\"звонить\" + -0.128*\"купюра\" + -0.120*\"телефон\"')]\n"
     ]
    },
    {
     "name": "stderr",
     "output_type": "stream",
     "text": [
      "\r",
      " 60%|██████████████████████████▍                 | 3/5 [01:05<00:51, 25.65s/it]"
     ]
    },
    {
     "name": "stdout",
     "output_type": "stream",
     "text": [
      "[(0, '0.183*\"карта\" + 0.139*\"банкомат\" + 0.129*\"кредит\" + 0.121*\"деньга\" + 0.107*\"заявка\" + 0.103*\"счёт\" + 0.098*\"заявление\" + 0.090*\"сумма\" + 0.089*\"сотрудник\" + 0.089*\"отделение\"'), (1, '0.446*\"банкомат\" + -0.272*\"заявка\" + -0.220*\"кредит\" + 0.191*\"деньга\" + -0.172*\"документ\" + 0.171*\"купюра\" + 0.141*\"карта\" + -0.137*\"справка\" + 0.137*\"претензия\" + 0.126*\"средство\"'), (2, '0.400*\"банкомат\" + -0.277*\"телебанк\" + 0.257*\"заявка\" + 0.206*\"купюра\" + 0.166*\"кредит\" + 0.160*\"рассмотрение\" + 0.154*\"претензия\" + -0.150*\"вклад\" + -0.142*\"карта\" + -0.128*\"система\"')]\n"
     ]
    },
    {
     "name": "stderr",
     "output_type": "stream",
     "text": [
      "\r",
      " 80%|███████████████████████████████████▏        | 4/5 [01:17<00:21, 21.33s/it]"
     ]
    },
    {
     "name": "stdout",
     "output_type": "stream",
     "text": [
      "[(0, '0.160*\"карта\" + 0.127*\"банкомат\" + 0.123*\"заявление\" + 0.123*\"деньга\" + 0.111*\"кредит\" + 0.106*\"счёт\" + 0.096*\"вклад\" + 0.095*\"сотрудник\" + 0.095*\"договор\" + 0.094*\"отделение\"'), (1, '0.274*\"банкомат\" + -0.214*\"звонок\" + -0.206*\"номер\" + 0.184*\"вклад\" + 0.159*\"деньга\" + -0.144*\"кредит\" + -0.144*\"телефон\" + -0.132*\"звонить\" + -0.124*\"ваш\" + 0.118*\"счёт\"'), (2, '0.471*\"вклад\" + -0.392*\"банкомат\" + 0.168*\"очередь\" + -0.155*\"чек\" + -0.150*\"зачислить\" + -0.148*\"заявление\" + 0.130*\"депозит\" + -0.115*\"деньга\" + -0.099*\"счёт\" + -0.098*\"средство\"')]\n"
     ]
    },
    {
     "name": "stderr",
     "output_type": "stream",
     "text": [
      "100%|████████████████████████████████████████████| 5/5 [01:27<00:00, 17.44s/it]"
     ]
    },
    {
     "name": "stdout",
     "output_type": "stream",
     "text": [
      "[(0, '0.182*\"карта\" + 0.123*\"вклад\" + 0.117*\"кредит\" + 0.112*\"сумма\" + 0.110*\"заявление\" + 0.109*\"договор\" + 0.100*\"ваш\" + 0.098*\"счёт\" + 0.098*\"номер\" + 0.097*\"платёж\"'), (1, '-0.320*\"вклад\" + 0.283*\"номер\" + -0.246*\"карта\" + 0.233*\"звонок\" + 0.176*\"ваш\" + 0.160*\"база\" + 0.155*\"телефон\" + 0.134*\"поступать\" + 0.131*\"удалить\" + 0.127*\"данные\"'), (2, '0.394*\"страховка\" + -0.267*\"вклад\" + 0.214*\"страховой\" + -0.192*\"номер\" + 0.187*\"страхование\" + 0.185*\"сумма\" + 0.175*\"руб\" + 0.156*\"погашение\" + 0.138*\"досрочный\" + 0.133*\"платёж\"')]\n"
     ]
    },
    {
     "name": "stderr",
     "output_type": "stream",
     "text": [
      "\n"
     ]
    }
   ],
   "source": [
    "for special_bank in tqdm(top_banks):\n",
    "    a = [i.split() for i in df.loc[df.bank == special_bank,'text_processed'] ]\n",
    "    dictionary = Dictionary(a)\n",
    "    corpus = [dictionary.doc2bow(i) for i in a]\n",
    "\n",
    "    tfidf = TfidfModel(corpus)\n",
    "    corpus_tfidf = tfidf[corpus]\n",
    "\n",
    "    lsi = lsimodel.LsiModel(corpus=corpus_tfidf, id2word=dictionary, num_topics=5)\n",
    "    print(lsi.show_topics(3) )"
   ]
  },
  {
   "cell_type": "markdown",
   "metadata": {
    "id": "AJ39G_RaqauR"
   },
   "source": [
    "### Часть 3. Классификация текстов\n",
    "Сформулируем для простоты задачу бинарной классификации: будем классифицировать на два класса, то есть, различать резко отрицательные отзывы (с оценкой 1) и положительные отзывы (с оценкой 5)."
   ]
  },
  {
   "cell_type": "code",
   "execution_count": 4,
   "metadata": {
    "ExecuteTime": {
     "end_time": "2021-11-18T12:57:02.032787Z",
     "start_time": "2021-11-18T12:57:01.962787Z"
    }
   },
   "outputs": [
    {
     "data": {
      "text/plain": [
       "(47387, 14713)"
      ]
     },
     "execution_count": 4,
     "metadata": {},
     "output_type": "execute_result"
    }
   ],
   "source": [
    "low_rating = df.loc[df.rating == 1,['text_processed','rating']]\n",
    "high_rating = df.loc[df.rating == 5,['text_processed','rating']]\n",
    "len(low_rating), len(high_rating)"
   ]
  },
  {
   "cell_type": "code",
   "execution_count": 5,
   "metadata": {
    "ExecuteTime": {
     "end_time": "2021-11-18T12:57:03.964790Z",
     "start_time": "2021-11-18T12:57:03.904790Z"
    }
   },
   "outputs": [
    {
     "data": {
      "text/plain": [
       "(14713, 14713)"
      ]
     },
     "execution_count": 5,
     "metadata": {},
     "output_type": "execute_result"
    }
   ],
   "source": [
    "low_rating = df.loc[df.rating == 1,['text_processed','rating']]\n",
    "low_rating.reset_index(inplace = True)\n",
    "low_rating.drop(columns='index',inplace = True)\n",
    "low_rating = low_rating[:len(high_rating)]\n",
    "len(low_rating), len(high_rating)"
   ]
  },
  {
   "cell_type": "code",
   "execution_count": 6,
   "metadata": {
    "ExecuteTime": {
     "end_time": "2021-11-18T12:57:06.254793Z",
     "start_time": "2021-11-18T12:57:06.244793Z"
    }
   },
   "outputs": [],
   "source": [
    "new_df = pd.concat([low_rating,high_rating])"
   ]
  },
  {
   "cell_type": "markdown",
   "metadata": {
    "id": "AJ39G_RaqauR"
   },
   "source": [
    "#### 1. Составьте обучающее и тестовое множество: \n",
    "выберите из всего набора данных N1 отзывов с оценкой 1 и N2 отзывов с оценкой 5 (значение N1 и N2 – на ваше усмотрение). Используйте sklearn.model_selection.train_test_split для разделения множества отобранных документов на обучающее и тестовое."
   ]
  },
  {
   "cell_type": "code",
   "execution_count": 7,
   "metadata": {
    "ExecuteTime": {
     "end_time": "2021-11-18T12:57:08.144796Z",
     "start_time": "2021-11-18T12:57:08.134796Z"
    }
   },
   "outputs": [],
   "source": [
    "from sklearn.model_selection import train_test_split\n",
    "from sklearn.feature_extraction.text import CountVectorizer, TfidfVectorizer\n",
    "from sklearn.linear_model import LogisticRegression"
   ]
  },
  {
   "cell_type": "code",
   "execution_count": 8,
   "metadata": {
    "ExecuteTime": {
     "end_time": "2021-11-18T12:57:09.854798Z",
     "start_time": "2021-11-18T12:57:09.844798Z"
    }
   },
   "outputs": [],
   "source": [
    "X = new_df.text_processed\n",
    "y = new_df.rating.astype(np.int16)"
   ]
  },
  {
   "cell_type": "code",
   "execution_count": 9,
   "metadata": {
    "ExecuteTime": {
     "end_time": "2021-11-18T12:57:18.816811Z",
     "start_time": "2021-11-18T12:57:18.796811Z"
    }
   },
   "outputs": [],
   "source": [
    "X_train,X_test, y_train, y_test = train_test_split(X,y,test_size=.15,random_state=255)"
   ]
  },
  {
   "cell_type": "markdown",
   "metadata": {
    "id": "AJ39G_RaqauR"
   },
   "source": [
    "#### 2. Используйте любой известный вам алгоритм классификации текстов для решения задачи и получите baseline. \n",
    "Сравните разные варианты векторизации текста: использование только униграм, пар или троек слов или с использованием символьных $n$-грам."
   ]
  },
  {
   "cell_type": "code",
   "execution_count": 12,
   "metadata": {
    "ExecuteTime": {
     "end_time": "2021-11-18T12:48:13.163016Z",
     "start_time": "2021-11-18T12:48:13.143016Z"
    }
   },
   "outputs": [],
   "source": [
    "logit = LogisticRegression(penalty='elasticnet',solver='saga',n_jobs=-1,l1_ratio=.1)"
   ]
  },
  {
   "cell_type": "markdown",
   "metadata": {},
   "source": [
    "##### one word  -  униграмы (1,1)"
   ]
  },
  {
   "cell_type": "code",
   "execution_count": 25,
   "metadata": {
    "ExecuteTime": {
     "end_time": "2021-11-18T13:07:19.853265Z",
     "start_time": "2021-11-18T13:07:19.493264Z"
    }
   },
   "outputs": [],
   "source": [
    "# one word\n",
    "vec = CountVectorizer(ngram_range=(1,1) )"
   ]
  },
  {
   "cell_type": "code",
   "execution_count": 26,
   "metadata": {
    "ExecuteTime": {
     "end_time": "2021-11-18T13:07:25.089272Z",
     "start_time": "2021-11-18T13:07:19.853265Z"
    }
   },
   "outputs": [],
   "source": [
    "X_train_transformed = vec.fit_transform(X_train)\n",
    "X_test_transformed = vec.transform(X_test)"
   ]
  },
  {
   "cell_type": "code",
   "execution_count": null,
   "metadata": {
    "ExecuteTime": {
     "end_time": "2021-11-18T13:07:27.275281Z",
     "start_time": "2021-11-18T13:07:25.089272Z"
    }
   },
   "outputs": [],
   "source": [
    "logit.fit(X_train_transformed,y_train)\n",
    "print(  logit.score(X_test_transformed,y_test) )"
   ]
  },
  {
   "cell_type": "code",
   "execution_count": 30,
   "metadata": {
    "ExecuteTime": {
     "end_time": "2021-11-18T13:39:55.643033Z",
     "start_time": "2021-11-18T13:39:55.623033Z"
    }
   },
   "outputs": [
    {
     "name": "stdout",
     "output_type": "stream",
     "text": [
      "[0.94891501 0.94868302]\n"
     ]
    }
   ],
   "source": [
    "y_pred = logit.predict(X_test_transformed)\n",
    "print( f1_score(y_test, y_pred, average=None) )"
   ]
  },
  {
   "cell_type": "markdown",
   "metadata": {},
   "source": [
    "##### two words - биграмы (2,2)"
   ]
  },
  {
   "cell_type": "code",
   "execution_count": 10,
   "metadata": {
    "ExecuteTime": {
     "end_time": "2021-11-18T12:58:36.461944Z",
     "start_time": "2021-11-18T12:58:36.301944Z"
    }
   },
   "outputs": [],
   "source": [
    "# one word\n",
    "vec = CountVectorizer(ngram_range=(2,2) )"
   ]
  },
  {
   "cell_type": "code",
   "execution_count": 11,
   "metadata": {
    "ExecuteTime": {
     "end_time": "2021-11-18T12:59:00.700978Z",
     "start_time": "2021-11-18T12:58:37.091945Z"
    }
   },
   "outputs": [],
   "source": [
    "X_train_transformed = vec.fit_transform(X_train)\n",
    "X_test_transformed = vec.transform(X_test)"
   ]
  },
  {
   "cell_type": "code",
   "execution_count": 14,
   "metadata": {
    "ExecuteTime": {
     "end_time": "2021-11-18T12:58:15.117914Z",
     "start_time": "2021-11-18T12:58:15.107914Z"
    }
   },
   "outputs": [],
   "source": [
    "logit = LogisticRegression(max_iter=10,n_jobs=-1)"
   ]
  },
  {
   "cell_type": "code",
   "execution_count": 15,
   "metadata": {
    "ExecuteTime": {
     "end_time": "2021-11-18T12:59:14.176001Z",
     "start_time": "2021-11-18T12:59:00.720978Z"
    }
   },
   "outputs": [
    {
     "data": {
      "text/plain": [
       "0.9424558223833258"
      ]
     },
     "execution_count": 15,
     "metadata": {},
     "output_type": "execute_result"
    }
   ],
   "source": [
    "logit.fit(X_train_transformed,y_train)\n",
    "logit.score(X_test_transformed,y_test)"
   ]
  },
  {
   "cell_type": "markdown",
   "metadata": {},
   "source": [
    "##### three words - триграмы (3,3)"
   ]
  },
  {
   "cell_type": "code",
   "execution_count": 16,
   "metadata": {
    "ExecuteTime": {
     "end_time": "2021-11-18T12:58:36.461944Z",
     "start_time": "2021-11-18T12:58:36.301944Z"
    }
   },
   "outputs": [],
   "source": [
    "# one word\n",
    "vec = CountVectorizer(ngram_range=(3,3) )"
   ]
  },
  {
   "cell_type": "code",
   "execution_count": 17,
   "metadata": {
    "ExecuteTime": {
     "end_time": "2021-11-18T12:59:00.700978Z",
     "start_time": "2021-11-18T12:58:37.091945Z"
    }
   },
   "outputs": [],
   "source": [
    "X_train_transformed = vec.fit_transform(X_train)\n",
    "X_test_transformed = vec.transform(X_test)"
   ]
  },
  {
   "cell_type": "code",
   "execution_count": 18,
   "metadata": {
    "ExecuteTime": {
     "end_time": "2021-11-18T12:59:00.720978Z",
     "start_time": "2021-11-18T12:59:00.700978Z"
    }
   },
   "outputs": [],
   "source": [
    "logit = LogisticRegression(max_iter=10,n_jobs=-1)"
   ]
  },
  {
   "cell_type": "code",
   "execution_count": 19,
   "metadata": {
    "ExecuteTime": {
     "end_time": "2021-11-18T12:59:14.176001Z",
     "start_time": "2021-11-18T12:59:00.720978Z"
    }
   },
   "outputs": [
    {
     "data": {
      "text/plain": [
       "0.8493429995468963"
      ]
     },
     "execution_count": 19,
     "metadata": {},
     "output_type": "execute_result"
    }
   ],
   "source": [
    "logit.fit(X_train_transformed,y_train)\n",
    "logit.score(X_test_transformed,y_test)"
   ]
  },
  {
   "cell_type": "markdown",
   "metadata": {},
   "source": [
    "##### Результаты:\n",
    "Так как количество оценок 1 и оценок 5 одинаково, то использовать метрику Accuracy score не запрещается.\n",
    "\n",
    "- униграмы (1,1) - accuracy score = 0.953\n",
    "- биграмы (2,2) - accuracy score = 0.942\n",
    "- триграмы (3,3) - accuracy score = 0.849"
   ]
  },
  {
   "cell_type": "markdown",
   "metadata": {
    "id": "AJ39G_RaqauR"
   },
   "source": [
    "#### 3. Сравните, как изменяется качество решения задачи при использовании скрытых тем в качестве признаков:\n",
    "- 1-ый вариант: $tf-idf$ преобразование (sklearn.feature_extraction.text.TfidfTransformer) и сингулярное разложение (оно же – латентый семантический анализ) (sklearn.decomposition.TruncatedSVD),\n",
    "- 2-ой вариант: тематические модели LDA (sklearn.decomposition.LatentDirichletAllocation).\n",
    "\n",
    "Используйте accuracy и F-measure для оценки качества классификации.\n",
    "\n",
    "В ноутбуке, размещенном в папке репозитория. написан примерный Pipeline для классификации текстов."
   ]
  },
  {
   "cell_type": "markdown",
   "metadata": {},
   "source": [
    "##### Option 1. 𝑡𝑓−𝑖𝑑𝑓 преобразование (TfidfTransformer) + семантический анализ (TruncatedSVD)"
   ]
  },
  {
   "cell_type": "code",
   "execution_count": 20,
   "metadata": {
    "ExecuteTime": {
     "end_time": "2021-11-18T12:59:28.261360Z",
     "start_time": "2021-11-18T12:59:14.176001Z"
    },
    "id": "bUSukDrwqauS",
    "outputId": "d50fc19f-0306-4d6b-f14d-101196431d81"
   },
   "outputs": [
    {
     "data": {
      "text/plain": [
       "Pipeline(steps=[('tfidf', TfidfVectorizer()),\n",
       "                ('tm', TruncatedSVD(n_components=30, random_state=255)),\n",
       "                ('clf', RandomForestClassifier(n_jobs=-1))])"
      ]
     },
     "execution_count": 20,
     "metadata": {},
     "output_type": "execute_result"
    }
   ],
   "source": [
    "from sklearn.pipeline import Pipeline\n",
    "from sklearn.decomposition import TruncatedSVD\n",
    "from sklearn.ensemble import RandomForestClassifier\n",
    "from sklearn.metrics import accuracy_score, f1_score\n",
    "from sklearn.feature_extraction.text import TfidfTransformer\n",
    "\n",
    "# !!! На каждом этапе Pipeline нужно указать свои параметры\n",
    "# 1-ый вариант: tf-idf + LSI\n",
    "# 2-ой вариант: LDA\n",
    "\n",
    "# clf = Pipeline([\n",
    "#     ('vect', CountVectorizer(analyzer = 'char', ngram_range={4,6})),\n",
    "#     ('clf', RandomForestClassifier()),\n",
    "# ])\n",
    "\n",
    "\n",
    "\n",
    "rf_pipe = Pipeline([ \n",
    "    ('tfidf', TfidfVectorizer(ngram_range=(1,1))), \n",
    "    ('tm', TruncatedSVD(n_components=30, random_state=255)), \n",
    "    ('clf', RandomForestClassifier(n_jobs=-1))\n",
    "])\n",
    "\n",
    "rf_pipe.fit(X_train,y_train)"
   ]
  },
  {
   "cell_type": "code",
   "execution_count": 21,
   "metadata": {
    "ExecuteTime": {
     "end_time": "2021-11-18T12:59:29.293363Z",
     "start_time": "2021-11-18T12:59:28.261360Z"
    }
   },
   "outputs": [
    {
     "name": "stdout",
     "output_type": "stream",
     "text": [
      "0.9032623470774808\n",
      "[0.90633911 0.89997658]\n"
     ]
    }
   ],
   "source": [
    "y_pred = rf_pipe.predict(X_test)\n",
    "print( accuracy_score(y_test, y_pred) )\n",
    "\n",
    "print( f1_score(y_test, y_pred, average=None) )"
   ]
  },
  {
   "cell_type": "markdown",
   "metadata": {},
   "source": [
    "##### Option 2. тематические модели LDA (LatentDirichletAllocation)"
   ]
  },
  {
   "cell_type": "code",
   "execution_count": 22,
   "metadata": {
    "ExecuteTime": {
     "end_time": "2021-11-18T12:59:29.303363Z",
     "start_time": "2021-11-18T12:59:29.293363Z"
    }
   },
   "outputs": [],
   "source": [
    "from sklearn.decomposition import LatentDirichletAllocation"
   ]
  },
  {
   "cell_type": "code",
   "execution_count": 23,
   "metadata": {
    "ExecuteTime": {
     "end_time": "2021-11-18T13:07:18.540261Z",
     "start_time": "2021-11-18T12:59:29.303363Z"
    }
   },
   "outputs": [
    {
     "name": "stdout",
     "output_type": "stream",
     "text": [
      "0.910058903488899\n",
      "[0.91112604 0.90896583]\n"
     ]
    }
   ],
   "source": [
    "rf_lda_pipe = Pipeline([ \n",
    "    ('tfidf', CountVectorizer(ngram_range=(1,1))), \n",
    "    ('lda', LatentDirichletAllocation(n_components=30, random_state=255)), \n",
    "    ('clf', RandomForestClassifier(n_jobs=-1))\n",
    "])\n",
    "\n",
    "rf_lda_pipe.fit(X_train,y_train)\n",
    "\n",
    "y_pred = rf_lda_pipe.predict(X_test)\n",
    "print( accuracy_score(y_test, y_pred) )\n",
    "\n",
    "print( f1_score(y_test, y_pred, average=None) )"
   ]
  },
  {
   "cell_type": "markdown",
   "metadata": {},
   "source": [
    "##### Результаты:\n",
    "Так как количество оценок 1 и оценок 5 одинаково, то использовать метрику Accuracy score не запрещается.\n",
    "\n",
    "1. бычный логит + CountVectorizer униграмы (1,1)\n",
    "    - accuracy score = 0.953\n",
    "    - f1 score = low_rating = 0.949 , high_rating = 0.949\n",
    "\n",
    "1. Option 1. 𝑡𝑓−𝑖𝑑𝑓 преобразование (TfidfTransformer) + семантический анализ (TruncatedSVD)\n",
    "    - accuracy score = 0.903\n",
    "    - f1 score = low_rating = 0.906 , high_rating = 0.899\n",
    "    \n",
    "1.  Option 2. тематические модели LDA (LatentDirichletAllocation)\n",
    "    - accuracy score = 0.910\n",
    "    - f1 score = low_rating = 0.911 , high_rating = 0.909 \n",
    "    \n",
    "__Лучший алгоритм - CountVectorizer(1,1) + logit__"
   ]
  }
 ],
 "metadata": {
  "colab": {
   "collapsed_sections": [],
   "name": "HW1_banki_TM-and-classification.ipynb",
   "provenance": []
  },
  "kernelspec": {
   "display_name": "Python 3 (ipykernel)",
   "language": "python",
   "name": "python3"
  },
  "language_info": {
   "codemirror_mode": {
    "name": "ipython",
    "version": 3
   },
   "file_extension": ".py",
   "mimetype": "text/x-python",
   "name": "python",
   "nbconvert_exporter": "python",
   "pygments_lexer": "ipython3",
   "version": "3.8.5"
  },
  "toc": {
   "base_numbering": 1,
   "nav_menu": {},
   "number_sections": false,
   "sideBar": true,
   "skip_h1_title": true,
   "title_cell": "Table of Contents",
   "title_sidebar": "Contents",
   "toc_cell": true,
   "toc_position": {},
   "toc_section_display": true,
   "toc_window_display": false
  }
 },
 "nbformat": 4,
 "nbformat_minor": 1
}
